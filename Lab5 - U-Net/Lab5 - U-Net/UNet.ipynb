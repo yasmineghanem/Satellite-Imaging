{
 "cells": [
  {
   "cell_type": "markdown",
   "metadata": {},
   "source": [
    "## Students Information\n",
    "\n",
    "Please enter the names and IDs of the two students below:\n",
    "\n",
    "1. **Name**: [Enter Student 1 Name Here]  \n",
    "   **ID**: `9XXXXXX` \n",
    "\n",
    "2. **Name**: [Enter Student 2 Name Here]  \n",
    "   **ID**: `9XXXXXX` \n"
   ]
  },
  {
   "cell_type": "markdown",
   "metadata": {},
   "source": [
    "## Students Instructions\n",
    "\n",
    "This is your last graded lab assignment, as you put the work you have studied in the lectures in action, please take this opportunity to enhance your understanding of the concepts and hone your skills. As you work on your assignment, please keep the following instructions in mind:\n",
    "\n",
    "- Clearly state your personal information where indicated.\n",
    "- Be ready with your work before the time of the next discussion slot in the schedule.\n",
    "- Plagiarism will be met with penalties, refrain from copying any answers to make the most out of the assignment. If any signs of plagiarism are detected, actions will be taken.\n",
    "- It is acceptable to share the workload of the assignment bearing the discussion in mind.\n",
    "- Feel free to [reach out](mailto:cmpsy27@gmail.com) if there were any ambiguities or post on the classroom."
   ]
  },
  {
   "cell_type": "markdown",
   "metadata": {},
   "source": [
    "## Submission Instructions\n",
    "\n",
    "To ensure a smooth evaluation process, please follow these steps for submitting your work:\n",
    "\n",
    "1. **Prepare Your Submission:** Alongside your main notebook, include any additional files that are necessary for running the notebook successfully. This might include data files, images, or supplementary scripts.\n",
    "\n",
    "2. **Rename Your Files:** Before submission, please rename your notebook to reflect the IDs of the two students working on this assignment. The format should be `ID1_ID2`, where `ID1` and `ID2` are the student IDs. For example, if the student IDs are `9123456` and `9876543`, then your notebook should be named `9123456_9876543.ipynb`.\n",
    "\n",
    "3. **Check for Completeness:** Ensure that all required tasks are completed and that the notebook runs from start to finish without errors. This step is crucial for a smooth evaluation.\n",
    "\n",
    "4. **Submit Your Work:** Once everything is in order, submit your notebook and any additional files via the designated submission link on Google Classroom **(code: 2yj6e24)**. Make sure you meet the submission deadline to avoid any late penalties.\n",
    "5. Please, note that the same student should submit the assignments for the pair throughout the semester.\n",
    "\n",
    "By following these instructions carefully, you help us in evaluating your work efficiently and fairly **and any failure to adhere to these guidelines can affect your grades**. If you encounter any difficulties or have questions about the submission process, please reach out as soon as possible.\n",
    "\n",
    "We look forward to seeing your completed assignments and wish you the best of luck!\n"
   ]
  },
  {
   "cell_type": "markdown",
   "metadata": {},
   "source": [
    "## Installation Instructions\n",
    "\n",
    "In this lab assignment, we require additional Python libraries for machine learning (ML) and deep learning (DL) algorithms and frameworks. To fulfill these requirements, we need to install Pytorch. \n",
    "1. Install Pytorch \\\n",
    "PyTorch is a versatile and powerful machine learning library for Python, known for its flexibility and ease of use in research and production. It supports various deep learning operations and models, including convolutional and recurrent neural networks. For Windows users, the installation also requires ensuring that CUDA, provided by NVIDIA, is compatible to enable GPU acceleration. This enhances performance significantly, particularly in training large neural networks.\\\n",
    "For windows installation with GPU support you can [check out this link](https://pytorch.org/get-started/locally/) which is the source for the command below and please know that support for GPU is done for windows so you can also check out [previous versions](https://pytorch.org/get-started/previous-versions/), you could use CPU on windows smoothly, use linux or resort to [WSL](https://www.youtube.com/watch?v=R4m8YEixidI).\n",
    "\n",
    "```bash\n",
    "pip3 install torch torchvision torchaudio --index-url https://download.pytorch.org/whl/cu118\n",
    "```\n",
    "```bash\n",
    "conda install pytorch torchvision torchaudio pytorch-cuda=11.8 -c pytorch -c nvidia\n",
    "```\n"
   ]
  },
  {
   "cell_type": "markdown",
   "metadata": {},
   "source": [
    "> **Note:** You are allowed to install any other necessary libraries you deem useful for solving the lab. Please ensure that any additional libraries are compatible with the assignment requirements and are properly documented in your submission.\n"
   ]
  },
  {
   "cell_type": "markdown",
   "metadata": {},
   "source": [
    "## U-Net\n",
    "\n",
    "U-Net is a convolutional neural network designed specifically for biomedical image segmentation. First introduced in a 2015 paper by Olaf Ronneberger, Philipp Fischer, and Thomas Brox, its architecture is notably shaped like the letter \"U\", which inspired its name. This structure comprises a contracting path to capture context and a symmetrically expanding path that aids in precise localization, making it particularly adept at leveraging small datasets to achieve highly accurate segmentations. U-Net's ability to accurately segment various tissues and medical conditions has made it a staple in medical imaging and has spurred adaptations for broader image analysis applications. Its success in the medical domain demonstrates its potential for high-impact applications in other fields requiring detailed image segmentation.\n",
    "\n",
    "U-Net's robust architecture has found significant applications in the field of satellite imaging as well. The ability of U-Net to effectively handle multi-scale and high-resolution images makes it particularly suitable for satellite image analysis. In satellite imaging, U-Net is commonly used for tasks such as land cover classification, road detection, and building segmentation. Its structure allows for precise segmentation of complex objects from high-resolution satellite imagery, even with relatively limited labeled datasets. This capability is crucial in environmental monitoring, urban planning, and disaster management, where accurate and detailed image analysis is required. The adaptability and efficiency of U-Net in handling spatial hierarchies and various textures present in satellite images highlight its versatility and effectiveness beyond its initial medical context.\n",
    "\n"
   ]
  },
  {
   "cell_type": "markdown",
   "metadata": {},
   "source": [
    "### U-Net Architecture\n",
    "\n",
    "![U-Net Architecture](unet.jpg)"
   ]
  },
  {
   "cell_type": "markdown",
   "metadata": {},
   "source": [
    "### Detailed Overview of Functions in `utilities.py`\n",
    "\n",
    "The `utilities.py` file contains multiple functions to support image processing, data manipulation, and neural network training:\n",
    "\n",
    "- **`generate_random_data(height, width, count)`**:\n",
    "  - Generates random images and masks.\n",
    "\n",
    "- **`generate_img_and_mask(height, width)`**:\n",
    "  - Generates a single image and corresponding mask.\n",
    "\n",
    "- **`add_square(img, mask)`**:\n",
    "  - Adds a square to an image and updates the mask.\n",
    "\n",
    "- **`add_filled_square(img, mask)`**:\n",
    "  - Adds a filled square to an image and updates the mask.\n",
    "\n",
    "- **`logical_and(mask1, mask2)`**:\n",
    "  - Performs logical 'AND' operation between two masks.\n",
    "\n",
    "- **`add_mesh_square(img, mask)`**:\n",
    "  - Adds a mesh-patterned square to an image and updates the mask.\n",
    "\n",
    "- **`add_triangle(img, mask)`**:\n",
    "  - Adds a triangle to an image and updates the mask.\n",
    "\n",
    "- **`add_circle(img, mask)`**:\n",
    "  - Adds a circle to an image and updates the mask.\n",
    "\n",
    "- **`add_plus(img, mask)`**:\n",
    "  - Adds a plus sign to an image and updates the mask.\n",
    "\n",
    "- **`get_random_location(shape, zoom)`**:\n",
    "  - Gets a random location within an image shape.\n",
    "\n",
    "- **`plot_img_array(img_array, n_col)`**:\n",
    "  - Plots an array of images.\n",
    "\n",
    "- **`plot_side_by_side(img_arrays)`**:\n",
    "  - Plots images side by side for comparison.\n",
    "\n",
    "- **`plot_errors(train_losses, val_losses)`**:\n",
    "  - Plots training and validation loss errors.\n",
    "\n",
    "- **`masks_to_colorimg(masks)`**:\n",
    "  - Converts masks to colored images.\n",
    "\n",
    "- **`generate_images_and_masks_then_plot()`**:\n",
    "  - Generates images and masks and plots them.\n",
    "\n",
    "- **`reverse_transform(transform)`**:\n",
    "  - Reverses a transformation applied to an image.\n",
    "\n",
    "- **`get_data_loaders(train_dir, valid_dir, batch_size)`**:\n",
    "  - Gets data loaders for training and validation datasets.\n",
    "\n",
    "- **`dice_loss(inputs, targets, smooth)`**:\n",
    "  - Calculates Dice loss for model evaluation.\n",
    "\n",
    "- **`calc_loss(pred, target, metrics)`**:\n",
    "  - Calculates loss and updates metrics.\n",
    "\n",
    "- **`print_metrics(metrics, epoch_samples, phase)`**:\n",
    "  - Prints metrics for training or validation phases.\n",
    "\n",
    "- **`train_model(model, dataloaders, criterion, optimizer, num_epochs)`**:\n",
    "  - Trains a model given data loaders and training parameters.\n",
    "\n",
    "- **`run(model)`**:\n",
    "  - Runs a full model training and evaluation session.\n",
    "\n",
    "- **`__init__`, `__len__`, `__getitem__`**:\n",
    "  - Standard class methods used in Python classes, typically for data handling or model initialization.\n",
    "\n",
    "These functions collectively facilitate the full lifecycle of processing, training, and evaluating neural network models, particularly focusing on image-related tasks.\n"
   ]
  },
  {
   "cell_type": "markdown",
   "metadata": {},
   "source": [
    "The primary objective of this assignment is to develop a neural network model capable of performing accurate image segmentation. Image segmentation involves dividing an image into segments that represent different objects or regions, which is crucial in various applications such as medical imaging, autonomous driving, and satellite image analysis.\n",
    "\n",
    "#### Image and Mask Generation\n",
    "In this assignment, synthetic images along with corresponding segmentation masks are generated to train and evaluate the segmentation model. Each image typically includes multiple geometric shapes placed randomly. These shapes can include simple forms such as circles, squares, and triangles, or more complex designs.\n",
    "\n",
    "#### Masks and Their Role in Segmentation\n",
    "- **Mask Generation**: Alongside each synthetic image, a mask is generated where each shape in the image has a corresponding segment in the mask. Each segment in the mask is represented by a unique color or grayscale intensity, where each intensity level corresponds to a different class (shape).\n",
    "- **Function of the Mask**: The mask serves as a \"ground truth\" for training the segmentation model. The model learns to predict these masks from the input images. Essentially, the task of the model is to map the input image to its corresponding output mask, segmenting the shapes it has learned during training.\n",
    "- **Learning Process**: During training, the model adjusts its parameters to minimize the difference between its predicted masks and the ground truth masks. This process involves optimizing a loss function, typically using backpropagation.\n"
   ]
  },
  {
   "cell_type": "markdown",
   "metadata": {},
   "source": [
    "## Requirement - U-Net Application\n",
    "- **Implement or Use U-Net**:\n",
    "  - **Option 1: Implementation** - Students are encouraged to implement the U-Net architecture from scratch, including defining all the layers and connections based on the standard specifications found in the literature.\n",
    "  - **Option 2: Use Pre-existing Implementation** - Students may also opt to use an existing implementation of U-Net. This can include adapting an open-source model available in frameworks like PyTorch.\n",
    "\n",
    "- **Integration with `utilities.py`**:\n",
    "  - The U-Net model, whether self-implemented or pre-existing, must be integrated with the `utilities.py` script provided. This integration is essential for processing data, training the model, and evaluating its performance efficiently.\n",
    "  - The model should effectively process input images and produce accurate segmentation masks as output, corresponding to the different segments of the input images.\n",
    "  - **You can make any necessary modifications including writing your own training loop for example**.\n"
   ]
  },
  {
   "cell_type": "code",
   "execution_count": null,
   "metadata": {},
   "outputs": [],
   "source": [
    "# import libraries here\n",
    "import torch\n",
    "import torch.nn as nn\n",
    "from torchvision import models"
   ]
  },
  {
   "cell_type": "code",
   "execution_count": null,
   "metadata": {},
   "outputs": [],
   "source": [
    "class UNet(nn.Module):\n",
    "    def __init__(self, n_class):\n",
    "        super().__init__()\n",
    "        # TODO: Define needed layers, use n_class variable in the last layer.\n",
    "        \n",
    "        \n",
    "    def forward(self, x):\n",
    "        # TODO: Define forward function\n",
    "        pass"
   ]
  },
  {
   "cell_type": "code",
   "execution_count": null,
   "metadata": {},
   "outputs": [],
   "source": [
    "import utilities\n",
    "\n",
    "utilities.run(UNet)"
   ]
  },
  {
   "cell_type": "markdown",
   "metadata": {},
   "source": [
    "### Grading Rubric (Total: 10 Marks)\n",
    "\n",
    "The lab is graded based on the following criteria:\n",
    "\n",
    "1. **Data Loading and Preparation (1 Mark)**\n",
    "   - Ensure reproducible results by setting seed to `27` before all randomized operations. (1 Mark)\n",
    "   \n",
    "2. **U-Net Architecture (4 Marks)**\n",
    "   - Uses appropriate U-Net Architecture to the problem with a full pipeline. (4 Marks)\n",
    "\n",
    "3. **Hyperparameters Tuning (2 Marks)**\n",
    "   - Report evaluation metrics on validation set. (1 Mark)\n",
    "   - Analyzes results and tunes hyperparameters. (1 Mark)\n",
    "  \n",
    "4. **Model Evaluation and Understanding (3 Marks)**\n",
    "   - Reports Jaccard Index and Dice Scores for test set. (1 Mark)\n",
    "   - **Comparison amongst your peers.** Compares the model's performance against those of peers to identify strengths and areas for improvement. (2 Marks)\n",
    "\n",
    "Each section of the lab will be evaluated on completeness, and correctness in approach and analysis. Part of the rubric also includes the student's ability to explain and justify their choices and results.\n"
   ]
  },
  {
   "cell_type": "markdown",
   "metadata": {},
   "source": [
    "## Submission Instructions\n",
    "\n",
    "To ensure a smooth evaluation process, please follow these steps for submitting your work:\n",
    "\n",
    "1. **Prepare Your Submission:** Alongside your main notebook, include any additional files that are necessary for running the notebook successfully. This might include data files, images, or supplementary scripts.\n",
    "\n",
    "2. **Rename Your Files:** Before submission, please rename your notebook to reflect the IDs of the two students working on this project. The format should be `ID1_ID2`, where `ID1` and `ID2` are the student IDs. For example, if the student IDs are `9123456` and `9876543`, then your notebook should be named `9123456_9876543.ipynb`.\n",
    "\n",
    "3. **Check for Completeness:** Ensure that all required tasks are completed and that the notebook runs from start to finish without errors. This step is crucial for a smooth evaluation.\n",
    "\n",
    "4. **Submit Your Work:** Once everything is in order, submit your notebook and any additional files via the designated submission link on Google Classroom **(code: 2yj6e24)**. Make sure you meet the submission deadline to avoid any late penalties.\n",
    "5. Please, note that the same student should submit the assignments for the pair throughout the semester.\n",
    "\n",
    "By following these instructions carefully, you help us in evaluating your work efficiently and fairly **and any failure to adhere to these guidelines can affect your grades**. If you encounter any difficulties or have questions about the submission process, please reach out as soon as possible.\n",
    "\n",
    "We look forward to seeing your completed projects and wish you the best of luck!\n"
   ]
  }
 ],
 "metadata": {
  "kernelspec": {
   "display_name": "Python 3",
   "language": "python",
   "name": "python3"
  },
  "language_info": {
   "name": "python",
   "version": "3.11.0"
  }
 },
 "nbformat": 4,
 "nbformat_minor": 2
}
