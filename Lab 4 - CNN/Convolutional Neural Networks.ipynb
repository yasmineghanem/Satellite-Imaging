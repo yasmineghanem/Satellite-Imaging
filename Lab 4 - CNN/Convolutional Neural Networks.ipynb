{
 "cells": [
  {
   "cell_type": "markdown",
   "metadata": {},
   "source": [
    "## Students Information\n",
    "\n",
    "Please enter the names and IDs of the two students below:\n",
    "\n",
    "1. **Name**: Yasmine Ghanem  \n",
    "   **ID**: `9203707` \n",
    "\n",
    "2. **Name**: Yasmin Elgendi  \n",
    "   **ID**: `9203717` \n",
    "\n",
    "3. **Name**: Sarah Mohamed   \n",
    "   **ID**: `9XXXXXX` \n",
    "\n",
    "4. **Name**: Basma Elhoseny  \n",
    "   **ID**: `9XXXXXX` \n"
   ]
  },
  {
   "cell_type": "markdown",
   "metadata": {},
   "source": [
    "## Students Instructions\n",
    "\n",
    "This is your fourth graded lab assignment, as you put the work you have studied in the lectures in action, please take this opportunity to enhance your understanding of the concepts and hone your skills. As you work on your assignment, please keep the following instructions in mind:\n",
    "\n",
    "- Clearly state your personal information where indicated.\n",
    "- Be ready with your work before the time of the next discussion slot in the schedule.\n",
    "- Plagiarism will be met with penalties, refrain from copying any answers to make the most out of the assignment. If any signs of plagiarism are detected, actions will be taken.\n",
    "- It is acceptable to share the workload of the assignment bearing the discussion in mind.\n",
    "- Feel free to [reach out](mailto:cmpsy27@gmail.com) if there were any ambiguities or post on the classroom."
   ]
  },
  {
   "cell_type": "markdown",
   "metadata": {},
   "source": [
    "## Submission Instructions\n",
    "\n",
    "To ensure a smooth evaluation process, please follow these steps for submitting your work:\n",
    "\n",
    "1. **Prepare Your Submission:** Alongside your main notebook, include any additional files that are necessary for running the notebook successfully. This might include data files, images, or supplementary scripts.\n",
    "\n",
    "2. **Rename Your Files:** Before submission, please rename your notebook to reflect the IDs of the two students working on this project. The format should be `ID1_ID2`, where `ID1` and `ID2` are the student IDs. For example, if the student IDs are `9123456` and `9876543`, then your notebook should be named `9123456_9876543.ipynb`.\n",
    "\n",
    "3. **Check for Completeness:** Ensure that all required tasks are completed and that the notebook runs from start to finish without errors. This step is crucial for a smooth evaluation.\n",
    "\n",
    "4. **Submit Your Work:** Once everything is in order, submit your notebook and any additional files via the designated submission link on Google Classroom **(code: 2yj6e24)**. Make sure you meet the submission deadline to avoid any late penalties.\n",
    "5. Please, note that the same student should submit the assignments for the pair throughout the semester.\n",
    "\n",
    "By following these instructions carefully, you help us in evaluating your work efficiently and fairly **and any failure to adhere to these guidelines can affect your grades**. If you encounter any difficulties or have questions about the submission process, please reach out as soon as possible.\n",
    "\n",
    "We look forward to seeing your completed projects and wish you the best of luck!\n"
   ]
  },
  {
   "cell_type": "markdown",
   "metadata": {},
   "source": [
    "## Installation Instructions\n",
    "\n",
    "In this lab assignment, we require additional Python libraries for machine learning (ML) and deep learning (DL) algorithms and frameworks. To fulfill these requirements, we need to install Pytorch. \n",
    "1. Install Pytorch \\\n",
    "PyTorch is a versatile and powerful machine learning library for Python, known for its flexibility and ease of use in research and production. It supports various deep learning operations and models, including convolutional and recurrent neural networks. For Windows users, the installation also requires ensuring that CUDA, provided by NVIDIA, is compatible to enable GPU acceleration. This enhances performance significantly, particularly in training large neural networks.\\\n",
    "For windows installation with GPU support you can [check out this link](https://pytorch.org/get-started/locally/) which is the source for the command below and please know that support for GPU is done for windows so you can also check out [previous versions](https://pytorch.org/get-started/previous-versions/), you could use CPU on windows smoothly, use linux or resort to [WSL](https://www.youtube.com/watch?v=R4m8YEixidI).\n",
    "\n",
    "```bash\n",
    "pip3 install torch torchvision torchaudio --index-url https://download.pytorch.org/whl/cu118\n",
    "```\n",
    "```bash\n",
    "conda install pytorch torchvision torchaudio pytorch-cuda=11.8 -c pytorch -c nvidia\n",
    "```\n"
   ]
  },
  {
   "cell_type": "markdown",
   "metadata": {},
   "source": [
    "> **Note:** You are allowed to install any other necessary libraries you deem useful for solving the lab. Please ensure that any additional libraries are compatible with the project requirements and are properly documented in your submission.\n"
   ]
  },
  {
   "cell_type": "markdown",
   "metadata": {},
   "source": [
    "## Convolutional Neural Networks (CNN)\n",
    "\n",
    "Machine learning is a field of artificial intelligence that enables systems to learn from data and make decisions without being explicitly programmed. It involves algorithms that iteratively learn from data and improve their accuracy over time by optimizing an error metric, typically through the use of loss functions. These functions quantify the difference between the predicted outputs and the actual outputs, guiding the algorithm to minimize this error during training. By continually adjusting and improving, machine learning models can achieve remarkable accuracy in tasks ranging from simple classification to complex decision-making scenarios.\n",
    "\n",
    "Convolutional Neural Networks (CNNs) are a specialized kind of neural networks particularly effective for analyzing visual imagery. They employ a mathematical operation known as convolution, which uses sliding window techniques to process data. This method is highly efficient in recognizing patterns and features in images due to the sparse interactions and parameter sharing of convolutional layers. These characteristics allow CNNs to capture local patterns like edges and textures with a significantly reduced amount of parameters compared to fully connected networks, making them highly efficient for tasks involving high-dimensional data like images.\n",
    "\n",
    "### Key Components of CNN Architecture\n",
    "\n",
    "The architecture of a Convolutional Neural Network (CNN) typically includes several key components, each playing a crucial role in the network's ability to process and interpret visual information:\n",
    "\n",
    "- **Convolutional Layers**: \n",
    "  - Apply a number of filters to the input.\n",
    "  - Create feature maps that capture essential details within the data.\n",
    "\n",
    "- **Pooling Layers**: \n",
    "  - Often follow convolutional layers.\n",
    "  - Reduce the spatial size of the feature maps, decreasing the computational load.\n",
    "  - Extract dominant features that are invariant to small changes in the input.\n",
    "\n",
    "- **Fully Connected Layers**: \n",
    "  - Interpret the features extracted by convolutional and pooling layers.\n",
    "  - Perform classification or regression tasks based on the interpreted features.\n",
    "\n",
    "- **Softmax Layer**:\n",
    "  - Typically used in the final layer if the task is classification.\n",
    "  - Outputs the probabilities of the instance belonging to each class.\n",
    "\n",
    "- **Dropout Layers**:\n",
    "  - Included to prevent overfitting.\n",
    "  - Randomly drop units from the neural network during the training process to improve generalization.\n",
    "\n"
   ]
  },
  {
   "cell_type": "markdown",
   "metadata": {},
   "source": [
    "### Example of CNN Architecture: LeNet-5\n",
    "\n",
    "![Example: LeNet-5 Architecture](lenet5.png)"
   ]
  },
  {
   "cell_type": "markdown",
   "metadata": {},
   "source": [
    "### Overview of Neural Network Hyperparameters\n",
    "\n",
    "In training neural networks, various hyperparameters must be predefined to guide the training process. These include:\n",
    "\n",
    "- **Batch Size**\n",
    "  - **Definition**: Number of training examples used per iteration.\n",
    "  - **Common Values**: 32, 64, 128, 256.\n",
    "\n",
    "- **Learning Rate**\n",
    "  - **Definition**: Step size at each iteration to minimize the loss function.\n",
    "  - **Common Values**: Often starts small, e.g., 0.01, 0.001, and can be dynamically adjusted (lowered as we get nearer to minima, check scheduers).\n",
    "\n",
    "- **Optimizer Type**\n",
    "  - **Examples**: SGD (Stochastic Gradient Descent), Adam, RMSprop, Adagrad.\n",
    "  - **Role**: Different optimizers affect training dynamics and model performance differently.\n",
    "\n",
    "- **Beta Parameters for Adam Optimizer**\n",
    "  - **Beta1 and Beta2**: Control the decay rates of moving averages of past gradients and squared gradients.\n",
    "  - **Common Values**: Beta1 = 0.9, Beta2 = 0.999.\n",
    "\n",
    "- **Epochs**\n",
    "  - **Definition**: One full pass of the training dataset through the learning algorithm.\n",
    "  - **Usage**: More epochs can lead to better learning but risk overfitting.\n",
    "\n",
    "- **Momentum**\n",
    "  - **Definition**: Helps accelerate SGD and dampens oscillations.\n",
    "  - **Common Values**: 0.9, 0.99.\n",
    "\n",
    "- **Regularization Parameters (L1 & L2)**\n",
    "  - **Purpose**: Prevent overfitting by adding a penalty on the size of the coefficients.\n",
    "  - **Parameters**: Lambda or alpha values for L1 (Lasso) and L2 (Ridge) regularization.\n",
    "\n",
    "- **Dropout Rate**\n",
    "  - **Definition**: Fraction of neurons to randomly drop during training.\n",
    "  - **Common Values**: 0.2, 0.3, 0.5.\n",
    "\n",
    "- **Number of Layers and Number of Neurons in Each Layer**\n",
    "  - **Role**: Determines the architecture's depth and width, affecting its ability to capture complex patterns.\n",
    "\n",
    "- **Error Function Type for Classification with Softmax**\n",
    "  - **Definition**: Cross-entropy loss, also known as log loss.\n",
    "  - **Purpose**: Measures the performance of a classification model whose output is a probability value between 0 and 1. Cross-entropy loss increases as the predicted probability diverges from the actual label (an alternative can be Categorical Hinge Loss).\n",
    "\n",
    "- **Early Stopping**\n",
    "  - **Purpose**: Halt training when performance on a validation set starts to worsen to prevent overfitting.\n",
    "\n",
    "Each of these hyperparameters can significantly impact the effectiveness and efficiency of the neural network training process, and tuning them appropriately is crucial for achieving optimal performance.\n"
   ]
  },
  {
   "cell_type": "markdown",
   "metadata": {},
   "source": [
    "## Req- Image Classification for EuroSATallBands\n",
    "This is the same problem of the previous lab but we will explore the power of machine learning. Image classification in remote sensing is not as popular as pixel classification but we will get to that later. \n",
    "\n",
    "- **Load the Images**: Load the images of the EuroSAT dataset that belong to the **residential**, **river**, and **forest** classes.\n",
    "\n",
    "- **Split the Dataset**: Split the dataset such that 10% of each class is used as validation data and other 10% is used as testing data, and the remainder is used for training your classifier. Use the indices provided by `np.random.choice` with seed set to `27`. **Code is provided do not change it**.\n",
    "\n",
    "- **CNN Architecture**: Use or implement one of the popular suitable CNN architectures, even with pretrained weights if you like.\n",
    "\n",
    "- **Hyperparameters Tuning**: According to your validation accuaracy, you should make altercations to your architectures and hyperparameters, you can even change the architecture altogether, the loss function, optimizer or others.\n",
    " \n",
    "- **Report Accuracy and Average F1 Score**: After testing your classifier on the test set, report the **Accuracy** and **Average F1 Score** of your model.\n"
   ]
  },
  {
   "cell_type": "markdown",
   "metadata": {},
   "source": []
  },
  {
   "cell_type": "code",
   "execution_count": 1,
   "metadata": {},
   "outputs": [],
   "source": [
    "# Add your libraries here\n",
    "import numpy as np\n",
    "import torch\n",
    "from skimage import io\n",
    "import os\n",
    "import torch.nn as nn\n",
    "import torch.optim as optim\n",
    "from torch.utils.data import DataLoader, TensorDataset\n",
    "from torchvision import transforms"
   ]
  },
  {
   "cell_type": "code",
   "execution_count": 2,
   "metadata": {},
   "outputs": [
    {
     "data": {
      "text/plain": [
       "True"
      ]
     },
     "execution_count": 2,
     "metadata": {},
     "output_type": "execute_result"
    }
   ],
   "source": [
    "# check if CUDA is available\n",
    "torch.cuda.is_available()"
   ]
  },
  {
   "cell_type": "code",
   "execution_count": 3,
   "metadata": {},
   "outputs": [],
   "source": [
    "# DO NOT CHANGE THIS CELL\n",
    "## Training set indices.\n",
    "np.random.seed(27)  # Set random seed for reproducibility\n",
    "\n",
    "# Randomly select indices for the test sets for each class\n",
    "residential_indices = np.random.choice(np.arange(3000), size=600, replace=False)\n",
    "forest_indices = np.random.choice(np.arange(3000), size=600, replace=False)\n",
    "river_indices = np.random.choice(np.arange(2500), size=500, replace=False)\n",
    "\n",
    "residential_val_indices = residential_indices[:300]\n",
    "forest_val_indices = forest_indices[:300]\n",
    "river_val_indices = river_indices[:250]\n",
    "\n",
    "residential_test_indices = residential_indices[300:]\n",
    "forest_test_indices = forest_indices[300:]\n",
    "river_test_indices = river_indices[250:]"
   ]
  },
  {
   "cell_type": "code",
   "execution_count": 11,
   "metadata": {},
   "outputs": [],
   "source": [
    "# get the indices for the training set\n",
    "all_indices = np.arange(3000)\n",
    "residential_training_indices = np.setdiff1d(all_indices, residential_indices)\n",
    "forest_training_indices = np.setdiff1d(all_indices, forest_indices)\n",
    "all_indices = np.arange(2500)\n",
    "river_training_indices = np.setdiff1d(all_indices, river_indices)"
   ]
  },
  {
   "cell_type": "code",
   "execution_count": 12,
   "metadata": {},
   "outputs": [],
   "source": [
    "# 1- Read the dataset\n",
    "def read_images(data_dir, indices, label):\n",
    "    images = []\n",
    "    for i in indices:\n",
    "        final_path = os.path.join(data_dir, label + '_' + str(i+1) + '.tif')\n",
    "        image = io.imread(final_path)\n",
    "        images.append(image)\n",
    "    return np.array(images)\n",
    "\n",
    "# Read the training images\n",
    "residential_training_images = read_images('../dataset/tif/Residential', residential_training_indices, 'Residential')\n",
    "forest_training_images = read_images('../dataset/tif/Forest', forest_training_indices, 'Forest')\n",
    "river_training_images = read_images('../dataset/tif/River', river_training_indices, 'River')\n",
    "\n",
    "# Read the validation images\n",
    "residential_val_images = read_images('../dataset/tif/Residential', residential_val_indices, 'Residential')\n",
    "forest_val_images = read_images('../dataset/tif/Forest', forest_val_indices, 'Forest')\n",
    "river_val_images = read_images('../dataset/tif/River', river_val_indices, 'River')\n",
    "\n",
    "# Read the test images\n",
    "residential_test_images = read_images('../dataset/tif/Residential', residential_test_indices, 'Residential')\n",
    "forest_test_images = read_images('../dataset/tif/Forest', forest_test_indices, 'Forest')\n",
    "river_test_images = read_images('../dataset/tif/River', river_test_indices, 'River')"
   ]
  },
  {
   "cell_type": "code",
   "execution_count": 44,
   "metadata": {},
   "outputs": [
    {
     "name": "stdout",
     "output_type": "stream",
     "text": [
      "(2400, 13, 64, 64)\n",
      "(2400, 13, 64, 64)\n",
      "(2000, 13, 64, 64)\n"
     ]
    }
   ],
   "source": [
    "# Check the shape of the input images\n",
    "print(residential_training_images.shape) \n",
    "print(forest_training_images.shape) \n",
    "print(river_training_images.shape) \n"
   ]
  },
  {
   "cell_type": "code",
   "execution_count": 53,
   "metadata": {},
   "outputs": [
    {
     "name": "stdout",
     "output_type": "stream",
     "text": [
      "WARNING:tensorflow:From c:\\Users\\Yasmin ElGendi\\AppData\\Local\\Programs\\Python\\Python311\\Lib\\site-packages\\keras\\src\\losses.py:2976: The name tf.losses.sparse_softmax_cross_entropy is deprecated. Please use tf.compat.v1.losses.sparse_softmax_cross_entropy instead.\n",
      "\n"
     ]
    }
   ],
   "source": [
    "import tensorflow as tf\n",
    "# CNN Model\n",
    "# Define LeNet-5 architecture\n",
    "def build_lenet(input_shape):\n",
    "  # Define Sequential Model\n",
    "  model = tf.keras.Sequential()\n",
    "  \n",
    "  # C1 Convolution Layer\n",
    "  model.add(tf.keras.layers.Conv2D(filters=6, strides=(1,1), kernel_size=(5,5), activation='tanh', input_shape=input_shape))\n",
    "  \n",
    "  # S2 SubSampling Layer\n",
    "  model.add(tf.keras.layers.AveragePooling2D(pool_size=(2,2), strides=(2,2)))\n",
    "\n",
    "  # C3 Convolution Layer\n",
    "  model.add(tf.keras.layers.Conv2D(filters=6, strides=(1,1), kernel_size=(5,5), activation='tanh'))\n",
    "\n",
    "  # S4 SubSampling Layer\n",
    "  model.add(tf.keras.layers.AveragePooling2D(pool_size=(2,2), strides=(2,2)))\n",
    "\n",
    "  # C5 Fully Connected Layer\n",
    "  model.add(tf.keras.layers.Dense(units=120, activation='tanh'))\n",
    "\n",
    "  # Flatten the output so that we can connect it with the fully connected layers by converting it into a 1D Array\n",
    "  model.add(tf.keras.layers.Flatten())\n",
    "\n",
    "  # FC6 Fully Connected Layers\n",
    "  model.add(tf.keras.layers.Dense(units=84, activation='tanh'))\n",
    "\n",
    "  # Output Layer\n",
    "  model.add(tf.keras.layers.Dense(units=10, activation='softmax'))\n",
    "\n",
    "  # Compile the Model\n",
    "  model.compile(loss='categorical_crossentropy', optimizer=tf.keras.optimizers.SGD(lr=0.1, momentum=0.0, decay=0.0), metrics=['accuracy'])\n",
    "\n",
    "  return model\n",
    "    "
   ]
  },
  {
   "cell_type": "code",
   "execution_count": 52,
   "metadata": {},
   "outputs": [
    {
     "name": "stdout",
     "output_type": "stream",
     "text": [
      "(2400, 64, 64, 13)\n",
      "(2400, 64, 64, 13)\n",
      "(2000, 64, 64, 13)\n",
      "(2400, 13, 64, 64)\n",
      "(2400, 13, 64, 64)\n",
      "(2000, 13, 64, 64)\n",
      "(13,)\n",
      "(13,)\n",
      "Mean: [255. 255. 255. 255. 255. 255. 255. 255. 255. 255. 255. 255. 255.]\n",
      "Standard Deviation: [0. 0. 0. 0. 0. 0. 0. 0. 0. 0. 0. 0. 0.]\n"
     ]
    }
   ],
   "source": [
    "# Check the shape of the input images\n",
    "print(residential_training_images.shape) \n",
    "print(forest_training_images.shape) \n",
    "print(river_training_images.shape) \n",
    "\n",
    "input_shape = (64,64,1) \n",
    "\n",
    "# Reshape the data into a 4D Array\n",
    "residential_training_images = residential_training_images.reshape(residential_training_images.shape[0], 64, 64, 1)\n",
    "residential_test_images = residential_test_images.reshape(residential_test_images.shape[0], 64, 64, 1)\n",
    "\n",
    "# Set type as float32 and normalize the values to [0,1]\n",
    "residential_training_images = residential_training_images.astype('float32')\n",
    "residential_test_images = residential_test_images.astype('float32')\n",
    "residential_training_images = x_train / 255.0\n",
    "residential_test_images = x_test / 255.0\n",
    "\n",
    "# Transform labels to one hot encoding\n",
    "train_labels = np.concatenate([np.zeros(len(residential_training_images)), \n",
    "                                np.ones(len(forest_training_images)), \n",
    "                                np.ones(len(river_training_images)) * 2])\n",
    "val_labels = np.concatenate([np.zeros(len(residential_val_images)), \n",
    "                              np.ones(len(forest_val_images)), \n",
    "                              np.ones(len(river_val_images)) * 2])\n",
    "test_labels = np.concatenate([np.zeros(len(residential_test_images)),\n",
    "                              np.ones(len(forest_test_images)),\n",
    "\t\t\t\t\t\t\t  np.ones(len(river_test_images)) * 2])\n",
    "\n",
    "# Apply CNN Model"
   ]
  },
  {
   "cell_type": "code",
   "execution_count": 49,
   "metadata": {},
   "outputs": [
    {
     "ename": "ValueError",
     "evalue": "std evaluated to zero after conversion to torch.float32, leading to division by zero.",
     "output_type": "error",
     "traceback": [
      "\u001b[1;31m---------------------------------------------------------------------------\u001b[0m",
      "\u001b[1;31mValueError\u001b[0m                                Traceback (most recent call last)",
      "Cell \u001b[1;32mIn[49], line 20\u001b[0m\n\u001b[0;32m     17\u001b[0m river_test_images \u001b[38;5;241m=\u001b[39m river_test_images\u001b[38;5;241m.\u001b[39mastype(np\u001b[38;5;241m.\u001b[39muint8)\n\u001b[0;32m     19\u001b[0m \u001b[38;5;66;03m# Apply transformation to the images\u001b[39;00m\n\u001b[1;32m---> 20\u001b[0m residential_training_images \u001b[38;5;241m=\u001b[39m np\u001b[38;5;241m.\u001b[39marray(\u001b[43m[\u001b[49m\u001b[43mtransform\u001b[49m\u001b[43m(\u001b[49m\u001b[43mimage\u001b[49m\u001b[43m)\u001b[49m\u001b[43m \u001b[49m\u001b[38;5;28;43;01mfor\u001b[39;49;00m\u001b[43m \u001b[49m\u001b[43mimage\u001b[49m\u001b[43m \u001b[49m\u001b[38;5;129;43;01min\u001b[39;49;00m\u001b[43m \u001b[49m\u001b[43mresidential_training_images\u001b[49m\u001b[43m]\u001b[49m)\n\u001b[0;32m     21\u001b[0m forest_training_images \u001b[38;5;241m=\u001b[39m np\u001b[38;5;241m.\u001b[39marray([transform(image) \u001b[38;5;28;01mfor\u001b[39;00m image \u001b[38;5;129;01min\u001b[39;00m forest_training_images])\n\u001b[0;32m     22\u001b[0m river_training_images \u001b[38;5;241m=\u001b[39m np\u001b[38;5;241m.\u001b[39marray([transform(image) \u001b[38;5;28;01mfor\u001b[39;00m image \u001b[38;5;129;01min\u001b[39;00m river_training_images])\n",
      "Cell \u001b[1;32mIn[49], line 20\u001b[0m, in \u001b[0;36m<listcomp>\u001b[1;34m(.0)\u001b[0m\n\u001b[0;32m     17\u001b[0m river_test_images \u001b[38;5;241m=\u001b[39m river_test_images\u001b[38;5;241m.\u001b[39mastype(np\u001b[38;5;241m.\u001b[39muint8)\n\u001b[0;32m     19\u001b[0m \u001b[38;5;66;03m# Apply transformation to the images\u001b[39;00m\n\u001b[1;32m---> 20\u001b[0m residential_training_images \u001b[38;5;241m=\u001b[39m np\u001b[38;5;241m.\u001b[39marray([\u001b[43mtransform\u001b[49m\u001b[43m(\u001b[49m\u001b[43mimage\u001b[49m\u001b[43m)\u001b[49m \u001b[38;5;28;01mfor\u001b[39;00m image \u001b[38;5;129;01min\u001b[39;00m residential_training_images])\n\u001b[0;32m     21\u001b[0m forest_training_images \u001b[38;5;241m=\u001b[39m np\u001b[38;5;241m.\u001b[39marray([transform(image) \u001b[38;5;28;01mfor\u001b[39;00m image \u001b[38;5;129;01min\u001b[39;00m forest_training_images])\n\u001b[0;32m     22\u001b[0m river_training_images \u001b[38;5;241m=\u001b[39m np\u001b[38;5;241m.\u001b[39marray([transform(image) \u001b[38;5;28;01mfor\u001b[39;00m image \u001b[38;5;129;01min\u001b[39;00m river_training_images])\n",
      "File \u001b[1;32mc:\\Users\\Yasmin ElGendi\\AppData\\Local\\Programs\\Python\\Python311\\Lib\\site-packages\\torchvision\\transforms\\transforms.py:95\u001b[0m, in \u001b[0;36mCompose.__call__\u001b[1;34m(self, img)\u001b[0m\n\u001b[0;32m     93\u001b[0m \u001b[38;5;28;01mdef\u001b[39;00m \u001b[38;5;21m__call__\u001b[39m(\u001b[38;5;28mself\u001b[39m, img):\n\u001b[0;32m     94\u001b[0m     \u001b[38;5;28;01mfor\u001b[39;00m t \u001b[38;5;129;01min\u001b[39;00m \u001b[38;5;28mself\u001b[39m\u001b[38;5;241m.\u001b[39mtransforms:\n\u001b[1;32m---> 95\u001b[0m         img \u001b[38;5;241m=\u001b[39m \u001b[43mt\u001b[49m\u001b[43m(\u001b[49m\u001b[43mimg\u001b[49m\u001b[43m)\u001b[49m\n\u001b[0;32m     96\u001b[0m     \u001b[38;5;28;01mreturn\u001b[39;00m img\n",
      "File \u001b[1;32mc:\\Users\\Yasmin ElGendi\\AppData\\Local\\Programs\\Python\\Python311\\Lib\\site-packages\\torch\\nn\\modules\\module.py:1511\u001b[0m, in \u001b[0;36mModule._wrapped_call_impl\u001b[1;34m(self, *args, **kwargs)\u001b[0m\n\u001b[0;32m   1509\u001b[0m     \u001b[38;5;28;01mreturn\u001b[39;00m \u001b[38;5;28mself\u001b[39m\u001b[38;5;241m.\u001b[39m_compiled_call_impl(\u001b[38;5;241m*\u001b[39margs, \u001b[38;5;241m*\u001b[39m\u001b[38;5;241m*\u001b[39mkwargs)  \u001b[38;5;66;03m# type: ignore[misc]\u001b[39;00m\n\u001b[0;32m   1510\u001b[0m \u001b[38;5;28;01melse\u001b[39;00m:\n\u001b[1;32m-> 1511\u001b[0m     \u001b[38;5;28;01mreturn\u001b[39;00m \u001b[38;5;28;43mself\u001b[39;49m\u001b[38;5;241;43m.\u001b[39;49m\u001b[43m_call_impl\u001b[49m\u001b[43m(\u001b[49m\u001b[38;5;241;43m*\u001b[39;49m\u001b[43margs\u001b[49m\u001b[43m,\u001b[49m\u001b[43m \u001b[49m\u001b[38;5;241;43m*\u001b[39;49m\u001b[38;5;241;43m*\u001b[39;49m\u001b[43mkwargs\u001b[49m\u001b[43m)\u001b[49m\n",
      "File \u001b[1;32mc:\\Users\\Yasmin ElGendi\\AppData\\Local\\Programs\\Python\\Python311\\Lib\\site-packages\\torch\\nn\\modules\\module.py:1520\u001b[0m, in \u001b[0;36mModule._call_impl\u001b[1;34m(self, *args, **kwargs)\u001b[0m\n\u001b[0;32m   1515\u001b[0m \u001b[38;5;66;03m# If we don't have any hooks, we want to skip the rest of the logic in\u001b[39;00m\n\u001b[0;32m   1516\u001b[0m \u001b[38;5;66;03m# this function, and just call forward.\u001b[39;00m\n\u001b[0;32m   1517\u001b[0m \u001b[38;5;28;01mif\u001b[39;00m \u001b[38;5;129;01mnot\u001b[39;00m (\u001b[38;5;28mself\u001b[39m\u001b[38;5;241m.\u001b[39m_backward_hooks \u001b[38;5;129;01mor\u001b[39;00m \u001b[38;5;28mself\u001b[39m\u001b[38;5;241m.\u001b[39m_backward_pre_hooks \u001b[38;5;129;01mor\u001b[39;00m \u001b[38;5;28mself\u001b[39m\u001b[38;5;241m.\u001b[39m_forward_hooks \u001b[38;5;129;01mor\u001b[39;00m \u001b[38;5;28mself\u001b[39m\u001b[38;5;241m.\u001b[39m_forward_pre_hooks\n\u001b[0;32m   1518\u001b[0m         \u001b[38;5;129;01mor\u001b[39;00m _global_backward_pre_hooks \u001b[38;5;129;01mor\u001b[39;00m _global_backward_hooks\n\u001b[0;32m   1519\u001b[0m         \u001b[38;5;129;01mor\u001b[39;00m _global_forward_hooks \u001b[38;5;129;01mor\u001b[39;00m _global_forward_pre_hooks):\n\u001b[1;32m-> 1520\u001b[0m     \u001b[38;5;28;01mreturn\u001b[39;00m \u001b[43mforward_call\u001b[49m\u001b[43m(\u001b[49m\u001b[38;5;241;43m*\u001b[39;49m\u001b[43margs\u001b[49m\u001b[43m,\u001b[49m\u001b[43m \u001b[49m\u001b[38;5;241;43m*\u001b[39;49m\u001b[38;5;241;43m*\u001b[39;49m\u001b[43mkwargs\u001b[49m\u001b[43m)\u001b[49m\n\u001b[0;32m   1522\u001b[0m \u001b[38;5;28;01mtry\u001b[39;00m:\n\u001b[0;32m   1523\u001b[0m     result \u001b[38;5;241m=\u001b[39m \u001b[38;5;28;01mNone\u001b[39;00m\n",
      "File \u001b[1;32mc:\\Users\\Yasmin ElGendi\\AppData\\Local\\Programs\\Python\\Python311\\Lib\\site-packages\\torchvision\\transforms\\transforms.py:277\u001b[0m, in \u001b[0;36mNormalize.forward\u001b[1;34m(self, tensor)\u001b[0m\n\u001b[0;32m    269\u001b[0m \u001b[38;5;28;01mdef\u001b[39;00m \u001b[38;5;21mforward\u001b[39m(\u001b[38;5;28mself\u001b[39m, tensor: Tensor) \u001b[38;5;241m-\u001b[39m\u001b[38;5;241m>\u001b[39m Tensor:\n\u001b[0;32m    270\u001b[0m \u001b[38;5;250m    \u001b[39m\u001b[38;5;124;03m\"\"\"\u001b[39;00m\n\u001b[0;32m    271\u001b[0m \u001b[38;5;124;03m    Args:\u001b[39;00m\n\u001b[0;32m    272\u001b[0m \u001b[38;5;124;03m        tensor (Tensor): Tensor image to be normalized.\u001b[39;00m\n\u001b[1;32m   (...)\u001b[0m\n\u001b[0;32m    275\u001b[0m \u001b[38;5;124;03m        Tensor: Normalized Tensor image.\u001b[39;00m\n\u001b[0;32m    276\u001b[0m \u001b[38;5;124;03m    \"\"\"\u001b[39;00m\n\u001b[1;32m--> 277\u001b[0m     \u001b[38;5;28;01mreturn\u001b[39;00m \u001b[43mF\u001b[49m\u001b[38;5;241;43m.\u001b[39;49m\u001b[43mnormalize\u001b[49m\u001b[43m(\u001b[49m\u001b[43mtensor\u001b[49m\u001b[43m,\u001b[49m\u001b[43m \u001b[49m\u001b[38;5;28;43mself\u001b[39;49m\u001b[38;5;241;43m.\u001b[39;49m\u001b[43mmean\u001b[49m\u001b[43m,\u001b[49m\u001b[43m \u001b[49m\u001b[38;5;28;43mself\u001b[39;49m\u001b[38;5;241;43m.\u001b[39;49m\u001b[43mstd\u001b[49m\u001b[43m,\u001b[49m\u001b[43m \u001b[49m\u001b[38;5;28;43mself\u001b[39;49m\u001b[38;5;241;43m.\u001b[39;49m\u001b[43minplace\u001b[49m\u001b[43m)\u001b[49m\n",
      "File \u001b[1;32mc:\\Users\\Yasmin ElGendi\\AppData\\Local\\Programs\\Python\\Python311\\Lib\\site-packages\\torchvision\\transforms\\functional.py:349\u001b[0m, in \u001b[0;36mnormalize\u001b[1;34m(tensor, mean, std, inplace)\u001b[0m\n\u001b[0;32m    346\u001b[0m \u001b[38;5;28;01mif\u001b[39;00m \u001b[38;5;129;01mnot\u001b[39;00m \u001b[38;5;28misinstance\u001b[39m(tensor, torch\u001b[38;5;241m.\u001b[39mTensor):\n\u001b[0;32m    347\u001b[0m     \u001b[38;5;28;01mraise\u001b[39;00m \u001b[38;5;167;01mTypeError\u001b[39;00m(\u001b[38;5;124mf\u001b[39m\u001b[38;5;124m\"\u001b[39m\u001b[38;5;124mimg should be Tensor Image. Got \u001b[39m\u001b[38;5;132;01m{\u001b[39;00m\u001b[38;5;28mtype\u001b[39m(tensor)\u001b[38;5;132;01m}\u001b[39;00m\u001b[38;5;124m\"\u001b[39m)\n\u001b[1;32m--> 349\u001b[0m \u001b[38;5;28;01mreturn\u001b[39;00m \u001b[43mF_t\u001b[49m\u001b[38;5;241;43m.\u001b[39;49m\u001b[43mnormalize\u001b[49m\u001b[43m(\u001b[49m\u001b[43mtensor\u001b[49m\u001b[43m,\u001b[49m\u001b[43m \u001b[49m\u001b[43mmean\u001b[49m\u001b[38;5;241;43m=\u001b[39;49m\u001b[43mmean\u001b[49m\u001b[43m,\u001b[49m\u001b[43m \u001b[49m\u001b[43mstd\u001b[49m\u001b[38;5;241;43m=\u001b[39;49m\u001b[43mstd\u001b[49m\u001b[43m,\u001b[49m\u001b[43m \u001b[49m\u001b[43minplace\u001b[49m\u001b[38;5;241;43m=\u001b[39;49m\u001b[43minplace\u001b[49m\u001b[43m)\u001b[49m\n",
      "File \u001b[1;32mc:\\Users\\Yasmin ElGendi\\AppData\\Local\\Programs\\Python\\Python311\\Lib\\site-packages\\torchvision\\transforms\\_functional_tensor.py:921\u001b[0m, in \u001b[0;36mnormalize\u001b[1;34m(tensor, mean, std, inplace)\u001b[0m\n\u001b[0;32m    919\u001b[0m std \u001b[38;5;241m=\u001b[39m torch\u001b[38;5;241m.\u001b[39mas_tensor(std, dtype\u001b[38;5;241m=\u001b[39mdtype, device\u001b[38;5;241m=\u001b[39mtensor\u001b[38;5;241m.\u001b[39mdevice)\n\u001b[0;32m    920\u001b[0m \u001b[38;5;28;01mif\u001b[39;00m (std \u001b[38;5;241m==\u001b[39m \u001b[38;5;241m0\u001b[39m)\u001b[38;5;241m.\u001b[39many():\n\u001b[1;32m--> 921\u001b[0m     \u001b[38;5;28;01mraise\u001b[39;00m \u001b[38;5;167;01mValueError\u001b[39;00m(\u001b[38;5;124mf\u001b[39m\u001b[38;5;124m\"\u001b[39m\u001b[38;5;124mstd evaluated to zero after conversion to \u001b[39m\u001b[38;5;132;01m{\u001b[39;00mdtype\u001b[38;5;132;01m}\u001b[39;00m\u001b[38;5;124m, leading to division by zero.\u001b[39m\u001b[38;5;124m\"\u001b[39m)\n\u001b[0;32m    922\u001b[0m \u001b[38;5;28;01mif\u001b[39;00m mean\u001b[38;5;241m.\u001b[39mndim \u001b[38;5;241m==\u001b[39m \u001b[38;5;241m1\u001b[39m:\n\u001b[0;32m    923\u001b[0m     mean \u001b[38;5;241m=\u001b[39m mean\u001b[38;5;241m.\u001b[39mview(\u001b[38;5;241m-\u001b[39m\u001b[38;5;241m1\u001b[39m, \u001b[38;5;241m1\u001b[39m, \u001b[38;5;241m1\u001b[39m)\n",
      "\u001b[1;31mValueError\u001b[0m: std evaluated to zero after conversion to torch.float32, leading to division by zero."
     ]
    }
   ],
   "source": [
    "# Define the transformation pipeline\n",
    "transform = transforms.Compose([\n",
    "    transforms.ToTensor(),\n",
    "    transforms.Normalize(mean=mean, std=std)\n",
    "])\n",
    "# Convert image data type to uint8\n",
    "residential_training_images = residential_training_images.astype(np.uint8)\n",
    "forest_training_images = forest_training_images.astype(np.uint8)\n",
    "river_training_images = river_training_images.astype(np.uint8)\n",
    "\n",
    "residential_val_images = residential_val_images.astype(np.uint8)\n",
    "forest_val_images = forest_val_images.astype(np.uint8)\n",
    "river_val_images = river_val_images.astype(np.uint8)\n",
    "\n",
    "residential_test_images = residential_test_images.astype(np.uint8)\n",
    "forest_test_images = forest_test_images.astype(np.uint8)\n",
    "river_test_images = river_test_images.astype(np.uint8)\n",
    "\n",
    "# Apply transformation to the images\n",
    "residential_training_images = np.array([transform(image) for image in residential_training_images])\n",
    "forest_training_images = np.array([transform(image) for image in forest_training_images])\n",
    "river_training_images = np.array([transform(image) for image in river_training_images])\n",
    "\n",
    "residential_val_images = np.array([transform(image) for image in residential_val_images])\n",
    "forest_val_images = np.array([transform(image) for image in forest_val_images])\n",
    "river_val_images = np.array([transform(image) for image in river_val_images])\n",
    "\n",
    "residential_test_images = np.array([transform(image) for image in residential_test_images])\n",
    "forest_test_images = np.array([transform(image) for image in forest_test_images])\n",
    "river_test_images = np.array([transform(image) for image in river_test_images])\n",
    "\n",
    "# Combine all training images and labels\n",
    "train_images = np.concatenate([residential_training_images, forest_training_images, river_training_images], axis=0)\n",
    "train_labels = np.concatenate([np.zeros(len(residential_training_images)), \n",
    "                                np.ones(len(forest_training_images)), \n",
    "                                np.ones(len(river_training_images)) * 2])\n",
    "\n",
    "# Combine all validation images and labels\n",
    "val_images = np.concatenate([residential_val_images, forest_val_images, river_val_images], axis=0)\n",
    "val_labels = np.concatenate([np.zeros(len(residential_val_images)), \n",
    "                              np.ones(len(forest_val_images)), \n",
    "                              np.ones(len(river_val_images)) * 2])\n",
    "\n",
    "# Combine all test images and labels\n",
    "test_images = np.concatenate([residential_test_images, forest_test_images, river_test_images], axis=0)\n",
    "test_labels = np.concatenate([np.zeros(len(residential_test_images)), \n",
    "                               np.ones(len(forest_test_images)), \n",
    "                               np.ones(len(river_test_images)) * 2])\n",
    "\n",
    "# Create PyTorch datasets and data loaders\n",
    "\n",
    "\n",
    "train_dataset = TensorDataset(torch.tensor(train_images), torch.tensor(train_labels))\n",
    "val_dataset = TensorDataset(torch.tensor(val_images), torch.tensor(val_labels))\n",
    "test_dataset = TensorDataset(torch.tensor(test_images), torch.tensor(test_labels))\n",
    "\n",
    "batch_size = 32\n",
    "train_loader = DataLoader(train_dataset, batch_size=batch_size, shuffle=True)\n",
    "val_loader = DataLoader(val_dataset, batch_size=batch_size)\n",
    "test_loader = DataLoader(test_dataset, batch_size=batch_size)\n",
    "\n",
    "# Define your model, loss function, and optimizer\n",
    "model = LeNet5(num_classes=3)  # 3 classes: residential, forest, river\n",
    "criterion = nn.CrossEntropyLoss()\n",
    "optimizer = optim.Adam(model.parameters(), lr=0.001)\n",
    "\n",
    "# Training loop\n",
    "num_epochs = 10\n",
    "for epoch in range(num_epochs):\n",
    "    model.train()\n",
    "    for images, labels in train_loader:\n",
    "        optimizer.zero_grad()\n",
    "        outputs = model(images)\n",
    "        loss = criterion(outputs, labels)\n",
    "        loss.backward()\n",
    "        optimizer.step()\n",
    "\n",
    "    # Validation\n",
    "    model.eval()\n",
    "    val_loss = 0\n",
    "    correct = 0\n",
    "    total = 0\n",
    "    with torch.no_grad():\n",
    "        for images, labels in val_loader:\n",
    "            outputs = model(images)\n",
    "            val_loss += criterion(outputs, labels).item()\n",
    "            _, predicted = torch.max(outputs, 1)\n",
    "            total += labels.size(0)\n",
    "            correct += (predicted == labels).sum().item()\n",
    "\n",
    "    print('Epoch [{}/{}], Loss: {:.4f}, Validation Accuracy: {:.2f}%'\n",
    "          .format(epoch+1, num_epochs, val_loss / len(val_loader), 100 * correct / total))\n",
    "\n",
    "# Test\n",
    "model.eval()\n",
    "test_correct = 0\n",
    "test_total = 0\n",
    "with torch.no_grad():\n",
    "    for images, labels in test_loader:\n",
    "        outputs = model(images)\n",
    "        _, predicted = torch.max(outputs, 1)\n",
    "        test_total += labels.size(0)\n",
    "        test_correct += (predicted == labels).sum().item()\n",
    "\n",
    "print('Test Accuracy: {:.2f}%'.format(100 * test_correct / test_total))"
   ]
  },
  {
   "cell_type": "code",
   "execution_count": null,
   "metadata": {},
   "outputs": [],
   "source": [
    "#Evaluation"
   ]
  },
  {
   "cell_type": "code",
   "execution_count": null,
   "metadata": {},
   "outputs": [],
   "source": [
    "# Good Luck from Psy and wish me well \n",
    "# I wish you you well"
   ]
  },
  {
   "cell_type": "markdown",
   "metadata": {},
   "source": [
    "### Grading Rubric (Total: 10 Marks)\n",
    "\n",
    "The lab is graded based on the following criteria:\n",
    "\n",
    "1. **Data Loading and Preparation (2 Marks)**\n",
    "   - Correctly loads images for the residential, river, and forest classes. (1 Mark)\n",
    "   - Accurately splits the dataset into training, validation testing subsets and clearly shows this split. (1 Mark)\n",
    "\n",
    "2. **CNN Architecture (3 Marks)**\n",
    "   - Uses appropriate CNN Architecture to the problem with a full pipeline. (2 Marks)\n",
    "   - Justifies the selection of CNN architecture. (1 Mark)\n",
    "\n",
    "3. **Hyperparameters Tuning (2 Marks)**\n",
    "   - Report evaluation metrics on validation set. (1 Mark)\n",
    "   - Analyzes results and tunes hyperparameters. (1 Mark)\n",
    "\n",
    "4. **Model Evaluation and Understanding (3 Marks)**\n",
    "   - Shows **confusion matrix** and correctly calculates and clearly shows the calculations for Accuracy and Average F1 Score. (1 Mark)\n",
    "   - **Comparison amongst your peers.** Compares the model's performance against those of peers to identify strengths and areas for improvement. (2 Marks)\n",
    "\n",
    "Each section of the lab will be evaluated on completeness, and correctness in approach and analysis. Part of the rubric also includes the student's ability to explain and justify their choices and results.\n"
   ]
  }
 ],
 "metadata": {
  "kernelspec": {
   "display_name": "Python 3",
   "language": "python",
   "name": "python3"
  },
  "language_info": {
   "codemirror_mode": {
    "name": "ipython",
    "version": 3
   },
   "file_extension": ".py",
   "mimetype": "text/x-python",
   "name": "python",
   "nbconvert_exporter": "python",
   "pygments_lexer": "ipython3",
   "version": "3.11.3"
  }
 },
 "nbformat": 4,
 "nbformat_minor": 2
}
