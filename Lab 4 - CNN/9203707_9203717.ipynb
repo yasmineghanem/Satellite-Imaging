{
 "cells": [
  {
   "cell_type": "markdown",
   "metadata": {},
   "source": [
    "## Students Information\n",
    "\n",
    "Please enter the names and IDs of the two students below:\n",
    "\n",
    "1. **Name**: Yasmine Ghanem  \n",
    "   **ID**: `9203707` \n",
    "\n",
    "2. **Name**: Yasmin Elgendi  \n",
    "   **ID**: `9203717` \n",
    "\n",
    "3. **Name**: Sarah Mohamed   \n",
    "   **ID**: `9XXXXXX` \n",
    "\n",
    "4. **Name**: Basma Elhoseny  \n",
    "   **ID**: `9XXXXXX` \n"
   ]
  },
  {
   "cell_type": "markdown",
   "metadata": {},
   "source": [
    "## Students Instructions\n",
    "\n",
    "This is your fourth graded lab assignment, as you put the work you have studied in the lectures in action, please take this opportunity to enhance your understanding of the concepts and hone your skills. As you work on your assignment, please keep the following instructions in mind:\n",
    "\n",
    "- Clearly state your personal information where indicated.\n",
    "- Be ready with your work before the time of the next discussion slot in the schedule.\n",
    "- Plagiarism will be met with penalties, refrain from copying any answers to make the most out of the assignment. If any signs of plagiarism are detected, actions will be taken.\n",
    "- It is acceptable to share the workload of the assignment bearing the discussion in mind.\n",
    "- Feel free to [reach out](mailto:cmpsy27@gmail.com) if there were any ambiguities or post on the classroom."
   ]
  },
  {
   "cell_type": "markdown",
   "metadata": {},
   "source": [
    "## Submission Instructions\n",
    "\n",
    "To ensure a smooth evaluation process, please follow these steps for submitting your work:\n",
    "\n",
    "1. **Prepare Your Submission:** Alongside your main notebook, include any additional files that are necessary for running the notebook successfully. This might include data files, images, or supplementary scripts.\n",
    "\n",
    "2. **Rename Your Files:** Before submission, please rename your notebook to reflect the IDs of the two students working on this project. The format should be `ID1_ID2`, where `ID1` and `ID2` are the student IDs. For example, if the student IDs are `9123456` and `9876543`, then your notebook should be named `9123456_9876543.ipynb`.\n",
    "\n",
    "3. **Check for Completeness:** Ensure that all required tasks are completed and that the notebook runs from start to finish without errors. This step is crucial for a smooth evaluation.\n",
    "\n",
    "4. **Submit Your Work:** Once everything is in order, submit your notebook and any additional files via the designated submission link on Google Classroom **(code: 2yj6e24)**. Make sure you meet the submission deadline to avoid any late penalties.\n",
    "5. Please, note that the same student should submit the assignments for the pair throughout the semester.\n",
    "\n",
    "By following these instructions carefully, you help us in evaluating your work efficiently and fairly **and any failure to adhere to these guidelines can affect your grades**. If you encounter any difficulties or have questions about the submission process, please reach out as soon as possible.\n",
    "\n",
    "We look forward to seeing your completed projects and wish you the best of luck!\n"
   ]
  },
  {
   "cell_type": "markdown",
   "metadata": {},
   "source": [
    "## Installation Instructions\n",
    "\n",
    "In this lab assignment, we require additional Python libraries for machine learning (ML) and deep learning (DL) algorithms and frameworks. To fulfill these requirements, we need to install Pytorch. \n",
    "1. Install Pytorch \\\n",
    "PyTorch is a versatile and powerful machine learning library for Python, known for its flexibility and ease of use in research and production. It supports various deep learning operations and models, including convolutional and recurrent neural networks. For Windows users, the installation also requires ensuring that CUDA, provided by NVIDIA, is compatible to enable GPU acceleration. This enhances performance significantly, particularly in training large neural networks.\\\n",
    "For windows installation with GPU support you can [check out this link](https://pytorch.org/get-started/locally/) which is the source for the command below and please know that support for GPU is done for windows so you can also check out [previous versions](https://pytorch.org/get-started/previous-versions/), you could use CPU on windows smoothly, use linux or resort to [WSL](https://www.youtube.com/watch?v=R4m8YEixidI).\n",
    "\n",
    "```bash\n",
    "pip3 install torch torchvision torchaudio --index-url https://download.pytorch.org/whl/cu118\n",
    "```\n",
    "```bash\n",
    "conda install pytorch torchvision torchaudio pytorch-cuda=11.8 -c pytorch -c nvidia\n",
    "```\n"
   ]
  },
  {
   "cell_type": "markdown",
   "metadata": {},
   "source": [
    "> **Note:** You are allowed to install any other necessary libraries you deem useful for solving the lab. Please ensure that any additional libraries are compatible with the project requirements and are properly documented in your submission.\n"
   ]
  },
  {
   "cell_type": "markdown",
   "metadata": {},
   "source": [
    "## Convolutional Neural Networks (CNN)\n",
    "\n",
    "Machine learning is a field of artificial intelligence that enables systems to learn from data and make decisions without being explicitly programmed. It involves algorithms that iteratively learn from data and improve their accuracy over time by optimizing an error metric, typically through the use of loss functions. These functions quantify the difference between the predicted outputs and the actual outputs, guiding the algorithm to minimize this error during training. By continually adjusting and improving, machine learning models can achieve remarkable accuracy in tasks ranging from simple classification to complex decision-making scenarios.\n",
    "\n",
    "Convolutional Neural Networks (CNNs) are a specialized kind of neural networks particularly effective for analyzing visual imagery. They employ a mathematical operation known as convolution, which uses sliding window techniques to process data. This method is highly efficient in recognizing patterns and features in images due to the sparse interactions and parameter sharing of convolutional layers. These characteristics allow CNNs to capture local patterns like edges and textures with a significantly reduced amount of parameters compared to fully connected networks, making them highly efficient for tasks involving high-dimensional data like images.\n",
    "\n",
    "### Key Components of CNN Architecture\n",
    "\n",
    "The architecture of a Convolutional Neural Network (CNN) typically includes several key components, each playing a crucial role in the network's ability to process and interpret visual information:\n",
    "\n",
    "- **Convolutional Layers**: \n",
    "  - Apply a number of filters to the input.\n",
    "  - Create feature maps that capture essential details within the data.\n",
    "\n",
    "- **Pooling Layers**: \n",
    "  - Often follow convolutional layers.\n",
    "  - Reduce the spatial size of the feature maps, decreasing the computational load.\n",
    "  - Extract dominant features that are invariant to small changes in the input.\n",
    "\n",
    "- **Fully Connected Layers**: \n",
    "  - Interpret the features extracted by convolutional and pooling layers.\n",
    "  - Perform classification or regression tasks based on the interpreted features.\n",
    "\n",
    "- **Softmax Layer**:\n",
    "  - Typically used in the final layer if the task is classification.\n",
    "  - Outputs the probabilities of the instance belonging to each class.\n",
    "\n",
    "- **Dropout Layers**:\n",
    "  - Included to prevent overfitting.\n",
    "  - Randomly drop units from the neural network during the training process to improve generalization.\n",
    "\n"
   ]
  },
  {
   "cell_type": "markdown",
   "metadata": {},
   "source": [
    "### Example of CNN Architecture: LeNet-5\n",
    "\n",
    "![Example: LeNet-5 Architecture](lenet5.png)"
   ]
  },
  {
   "cell_type": "markdown",
   "metadata": {},
   "source": [
    "### Overview of Neural Network Hyperparameters\n",
    "\n",
    "In training neural networks, various hyperparameters must be predefined to guide the training process. These include:\n",
    "\n",
    "- **Batch Size**\n",
    "  - **Definition**: Number of training examples used per iteration.\n",
    "  - **Common Values**: 32, 64, 128, 256.\n",
    "\n",
    "- **Learning Rate**\n",
    "  - **Definition**: Step size at each iteration to minimize the loss function.\n",
    "  - **Common Values**: Often starts small, e.g., 0.01, 0.001, and can be dynamically adjusted (lowered as we get nearer to minima, check scheduers).\n",
    "\n",
    "- **Optimizer Type**\n",
    "  - **Examples**: SGD (Stochastic Gradient Descent), Adam, RMSprop, Adagrad.\n",
    "  - **Role**: Different optimizers affect training dynamics and model performance differently.\n",
    "\n",
    "- **Beta Parameters for Adam Optimizer**\n",
    "  - **Beta1 and Beta2**: Control the decay rates of moving averages of past gradients and squared gradients.\n",
    "  - **Common Values**: Beta1 = 0.9, Beta2 = 0.999.\n",
    "\n",
    "- **Epochs**\n",
    "  - **Definition**: One full pass of the training dataset through the learning algorithm.\n",
    "  - **Usage**: More epochs can lead to better learning but risk overfitting.\n",
    "\n",
    "- **Momentum**\n",
    "  - **Definition**: Helps accelerate SGD and dampens oscillations.\n",
    "  - **Common Values**: 0.9, 0.99.\n",
    "\n",
    "- **Regularization Parameters (L1 & L2)**\n",
    "  - **Purpose**: Prevent overfitting by adding a penalty on the size of the coefficients.\n",
    "  - **Parameters**: Lambda or alpha values for L1 (Lasso) and L2 (Ridge) regularization.\n",
    "\n",
    "- **Dropout Rate**\n",
    "  - **Definition**: Fraction of neurons to randomly drop during training.\n",
    "  - **Common Values**: 0.2, 0.3, 0.5.\n",
    "\n",
    "- **Number of Layers and Number of Neurons in Each Layer**\n",
    "  - **Role**: Determines the architecture's depth and width, affecting its ability to capture complex patterns.\n",
    "\n",
    "- **Error Function Type for Classification with Softmax**\n",
    "  - **Definition**: Cross-entropy loss, also known as log loss.\n",
    "  - **Purpose**: Measures the performance of a classification model whose output is a probability value between 0 and 1. Cross-entropy loss increases as the predicted probability diverges from the actual label (an alternative can be Categorical Hinge Loss).\n",
    "\n",
    "- **Early Stopping**\n",
    "  - **Purpose**: Halt training when performance on a validation set starts to worsen to prevent overfitting.\n",
    "\n",
    "Each of these hyperparameters can significantly impact the effectiveness and efficiency of the neural network training process, and tuning them appropriately is crucial for achieving optimal performance.\n"
   ]
  },
  {
   "cell_type": "markdown",
   "metadata": {},
   "source": [
    "## Req- Image Classification for EuroSATallBands\n",
    "This is the same problem of the previous lab but we will explore the power of machine learning. Image classification in remote sensing is not as popular as pixel classification but we will get to that later. \n",
    "\n",
    "- **Load the Images**: Load the images of the EuroSAT dataset that belong to the **residential**, **river**, and **forest** classes.\n",
    "\n",
    "- **Split the Dataset**: Split the dataset such that 10% of each class is used as validation data and other 10% is used as testing data, and the remainder is used for training your classifier. Use the indices provided by `np.random.choice` with seed set to `27`. **Code is provided do not change it**.\n",
    "\n",
    "- **CNN Architecture**: Use or implement one of the popular suitable CNN architectures, even with pretrained weights if you like.\n",
    "\n",
    "- **Hyperparameters Tuning**: According to your validation accuaracy, you should make altercations to your architectures and hyperparameters, you can even change the architecture altogether, the loss function, optimizer or others.\n",
    " \n",
    "- **Report Accuracy and Average F1 Score**: After testing your classifier on the test set, report the **Accuracy** and **Average F1 Score** of your model.\n"
   ]
  },
  {
   "cell_type": "code",
   "execution_count": 1,
   "metadata": {},
   "outputs": [],
   "source": [
    "# Add your libraries here\n",
    "import numpy as np\n",
    "import torch\n",
    "from skimage import io\n",
    "import os\n",
    "import torch.nn as nn\n",
    "import torch.optim as optim\n",
    "from torch.utils.data import DataLoader, TensorDataset\n",
    "import torchvision.transforms as transforms\n",
    "from sklearn.metrics import confusion_matrix, f1_score\n",
    "import seaborn as sns\n",
    "import matplotlib.pylab as plt"
   ]
  },
  {
   "cell_type": "code",
   "execution_count": 2,
   "metadata": {},
   "outputs": [
    {
     "data": {
      "text/plain": [
       "True"
      ]
     },
     "execution_count": 2,
     "metadata": {},
     "output_type": "execute_result"
    }
   ],
   "source": [
    "# check if CUDA is available\n",
    "torch.cuda.is_available()"
   ]
  },
  {
   "cell_type": "code",
   "execution_count": 2,
   "metadata": {},
   "outputs": [],
   "source": [
    "# DO NOT CHANGE THIS CELL\n",
    "## Training set indices.\n",
    "np.random.seed(27)  # Set random seed for reproducibility\n",
    "\n",
    "# Randomly select indices for the test sets for each class\n",
    "residential_indices = np.random.choice(np.arange(3000), size=600, replace=False)\n",
    "forest_indices = np.random.choice(np.arange(3000), size=600, replace=False)\n",
    "river_indices = np.random.choice(np.arange(2500), size=500, replace=False)\n",
    "\n",
    "residential_val_indices = residential_indices[:300]\n",
    "forest_val_indices = forest_indices[:300]\n",
    "river_val_indices = river_indices[:250]\n",
    "\n",
    "residential_test_indices = residential_indices[300:]\n",
    "forest_test_indices = forest_indices[300:]\n",
    "river_test_indices = river_indices[250:]"
   ]
  },
  {
   "cell_type": "code",
   "execution_count": 3,
   "metadata": {},
   "outputs": [],
   "source": [
    "# get the indices for the training set\n",
    "all_indices = np.arange(3000)\n",
    "residential_training_indices = np.setdiff1d(all_indices, residential_indices)\n",
    "forest_training_indices = np.setdiff1d(all_indices, forest_indices)\n",
    "all_indices = np.arange(2500)\n",
    "river_training_indices = np.setdiff1d(all_indices, river_indices)"
   ]
  },
  {
   "cell_type": "code",
   "execution_count": 4,
   "metadata": {},
   "outputs": [],
   "source": [
    "# 1- Read the dataset\n",
    "def read_images(data_dir, indices, label):\n",
    "    images = []\n",
    "    for i in indices:\n",
    "        final_path = os.path.join(data_dir, label + '_' + str(i+1) + '.tif')\n",
    "        image = io.imread(final_path)\n",
    "        images.append(image)\n",
    "    return np.array(images)\n",
    "\n",
    "# Read the training images\n",
    "residential_training_images = read_images('../dataset/tif/Residential', residential_training_indices, 'Residential')\n",
    "forest_training_images = read_images('../dataset/tif/Forest', forest_training_indices, 'Forest')\n",
    "river_training_images = read_images('../dataset/tif/River', river_training_indices, 'River')\n",
    "\n",
    "# Read the validation images\n",
    "residential_val_images = read_images('../dataset/tif/Residential', residential_val_indices, 'Residential')\n",
    "forest_val_images = read_images('../dataset/tif/Forest', forest_val_indices, 'Forest')\n",
    "river_val_images = read_images('../dataset/tif/River', river_val_indices, 'River')\n",
    "\n",
    "# Read the test images\n",
    "residential_test_images = read_images('../dataset/tif/Residential', residential_test_indices, 'Residential')\n",
    "forest_test_images = read_images('../dataset/tif/Forest', forest_test_indices, 'Forest')\n",
    "river_test_images = read_images('../dataset/tif/River', river_test_indices, 'River')"
   ]
  },
  {
   "cell_type": "code",
   "execution_count": 5,
   "metadata": {},
   "outputs": [
    {
     "name": "stdout",
     "output_type": "stream",
     "text": [
      "Shapes:\n",
      "---------Training---------\n",
      "Residential:  (2400, 64, 64, 13)\n",
      "Residential:  (2400, 64, 64, 13)\n",
      "Residential:  (2000, 64, 64, 13)\n",
      "---------Validation---------\n",
      "Residential:  (300, 64, 64, 13)\n",
      "Forest:  (300, 64, 64, 13)\n",
      "River:  (250, 64, 64, 13)\n",
      "---------Test---------\n",
      "Residential:  (300, 64, 64, 13)\n",
      "Forest:  (300, 64, 64, 13)\n",
      "River:  (250, 64, 64, 13)\n"
     ]
    }
   ],
   "source": [
    "# Check the shape of the input images\n",
    "print(\"Shapes:\")\n",
    "print(\"---------Training---------\")\n",
    "print(\"Residential: \", residential_training_images.shape) \n",
    "print(\"Residential: \", forest_training_images.shape) \n",
    "print(\"Residential: \", river_training_images.shape) \n",
    "\n",
    "print(\"---------Validation---------\")\n",
    "print(\"Residential: \", residential_val_images.shape) \n",
    "print(\"Forest: \", forest_val_images.shape) \n",
    "print(\"River: \", river_val_images.shape) \n",
    "\n",
    "print(\"---------Test---------\")\n",
    "print(\"Residential: \", residential_test_images.shape) \n",
    "print(\"Forest: \", forest_test_images.shape) \n",
    "print(\"River: \", river_test_images.shape) \n"
   ]
  },
  {
   "cell_type": "code",
   "execution_count": 6,
   "metadata": {},
   "outputs": [],
   "source": [
    "def shuffle_dataset(images, labels):\n",
    "    # shuffle the dataset\n",
    "     \n",
    "    # zip the images and labels together\n",
    "    zipped_lists = list(zip(images, labels))\n",
    "\n",
    "    # shuffle the zipped list\n",
    "    np.random.shuffle(zipped_lists)\n",
    "\n",
    "    # unzip the zipped list\n",
    "    shuflled_images, shuffled_labels = zip(*zipped_lists)\n",
    "\n",
    "    return shuflled_images, shuffled_labels"
   ]
  },
  {
   "cell_type": "markdown",
   "metadata": {},
   "source": [
    "### CNN Model\n",
    "\n",
    "##### Pipeline \n",
    "<ul>\n",
    "\t<li> 1st Conv Layer\n",
    "\t<li> Pooling\n",
    "\t<li> 2nd Conv Layer\n",
    "\t<li> Fully Connected 1\n",
    "\t<li> Fully Connected 2\n",
    "\t<li> Fully Connected 3\n",
    "</ul>\n"
   ]
  },
  {
   "cell_type": "code",
   "execution_count": 29,
   "metadata": {},
   "outputs": [
    {
     "name": "stdout",
     "output_type": "stream",
     "text": [
      "Finished Training\n"
     ]
    }
   ],
   "source": [
    "\n",
    "# Define LeNet-5 architecture\n",
    "class LeNet(nn.Module):\n",
    "    def __init__(self):\n",
    "        super(LeNet, self).__init__()\n",
    "        self.conv1 = nn.Conv2d(in_channels=13, out_channels=7, kernel_size=5) # 1st conv layer with 6 filters of size 5x5 and stride 1 \n",
    "        self.avgpool = nn.AvgPool2d(kernel_size=2, stride=2) # Average pooling layer with kernel size 2x2 and stride 2 that reduces the size of the image by half\n",
    "        self.conv2 = nn.Conv2d(in_channels=7, out_channels=7, kernel_size=5) # 2nd conv layer with 6 filters of size 5x5 and stride 1\n",
    "        self.fc1 = nn.Linear(in_features=7 * 13 * 13, out_features=120) # 1st fully connected layer with 120 neurons \n",
    "        self.fc2 = nn.Linear(in_features=120, out_features=84) # 2nd fully connected layer with 84 neurons\n",
    "        self.fc3 = nn.Linear(in_features=84, out_features=3) # 3rd fully connected layer with 3 neurons for the 3 classes\n",
    "        #softmax layer\n",
    "        self.softmax = nn.Softmax(dim=1) # softmax layer to convert the output to probabilities\n",
    "\n",
    "    def forward(self, x):\n",
    "        x = torch.tanh(self.conv1(x))\n",
    "        x = self.avgpool(x)\n",
    "        x = torch.tanh(self.conv2(x))\n",
    "        x = self.avgpool(x)\n",
    "        x = x.view(-1, 7 * 13 * 13)\n",
    "        x = torch.relu(self.fc1(x))\n",
    "        x = torch.relu(self.fc2(x))\n",
    "        x = self.fc3(x)\n",
    "        x = self.softmax(x)\n",
    "        return x\n",
    "\n",
    "# Instantiate the model\n",
    "model = LeNet()\n",
    "\n",
    "# Define optimizer\n",
    "optimizer = optim.SGD(model.parameters(), lr=0.1, momentum=0.0, weight_decay=0.0)\n",
    "\n",
    "# Define loss function\n",
    "criterion = nn.CrossEntropyLoss()\n",
    "\n",
    "\n",
    "# Combine training and test data\n",
    "x_train = np.concatenate([residential_training_images, forest_training_images, river_training_images], axis=0)\n",
    "y_train = np.concatenate([np.zeros(len(residential_training_images)), \n",
    "                          np.ones(len(forest_training_images)), \n",
    "                          np.ones(len(river_training_images)) * 2])\n",
    "\n",
    "x_val = np.concatenate([residential_val_images, forest_val_images, river_val_images], axis=0)\n",
    "y_val = np.concatenate([np.zeros(len(residential_val_images)), \n",
    "\t\t\t\t\t\t np.ones(len(forest_val_images)), \n",
    "\t\t\t\t\t\t np.ones(len(river_val_images)) * 2])\n",
    "\n",
    "x_test = np.concatenate([residential_test_images, forest_test_images, river_test_images], axis=0)\n",
    "y_test = np.concatenate([np.zeros(len(residential_test_images)), \n",
    "                         np.ones(len(forest_test_images)), \n",
    "                         np.ones(len(river_test_images)) * 2])\n",
    "\n",
    "rows, cols, bands = 64, 64, 13\n",
    "num_classes = 3  \n",
    "\n",
    "# Reshape the data into a 4D Array\n",
    "x_train = x_train.reshape(x_train.shape[0], bands, rows, cols).astype(np.float32)\n",
    "x_test = x_test.reshape(x_test.shape[0], bands, rows, cols).astype(np.float32)\n",
    "x_val = x_val.reshape(x_val.shape[0], bands, rows, cols).astype(np.float32)\n",
    "\n",
    "# Normalize the data to [0,1]\n",
    "x_train /= 255.0\n",
    "x_test /= 255.0\n",
    "x_val /= 255.0\n",
    "\n",
    "# Convert to PyTorch tensors\n",
    "x_train_tensor = torch.tensor(x_train)\n",
    "y_train_tensor = torch.tensor(y_train, dtype=torch.long)\n",
    "\n",
    "x_test_tensor = torch.tensor(x_test)\n",
    "y_test_tensor = torch.tensor(y_test, dtype=torch.long)\n",
    "\n",
    "x_val_tensor = torch.tensor(x_test)\n",
    "y_val_tensor = torch.tensor(y_test, dtype=torch.long)\n",
    "\n",
    "# Create DataLoader\n",
    "train_dataset = TensorDataset(x_train_tensor, y_train_tensor)\n",
    "train_loader = DataLoader(train_dataset, batch_size=128, shuffle=True)\n",
    "\n",
    "# Training loop\n",
    "epochs = 10\n",
    "for epoch in range(epochs):\n",
    "    model.train()\n",
    "    for inputs, labels in train_loader:\n",
    "        optimizer.zero_grad()\n",
    "        outputs = model(inputs)\n",
    "        loss = criterion(outputs, labels)\n",
    "        loss.backward()\n",
    "        optimizer.step()\n",
    "        \n",
    "print('Finished Training')\n"
   ]
  },
  {
   "cell_type": "markdown",
   "metadata": {},
   "source": [
    "### Validation Set"
   ]
  },
  {
   "cell_type": "code",
   "execution_count": 31,
   "metadata": {},
   "outputs": [
    {
     "name": "stdout",
     "output_type": "stream",
     "text": [
      "Accuracy: 0.9105882352941177\n"
     ]
    }
   ],
   "source": [
    "# Evaluate the model on the validation set\n",
    "model.eval()\n",
    "with torch.no_grad():\n",
    "    outputs = model(x_val_tensor)\n",
    "    _, predicted = torch.max(outputs, 1)\n",
    "    correct = (predicted == y_val_tensor).sum().item()\n",
    "    total = y_val_tensor.size(0)\n",
    "    accuracy = correct / total\n",
    "    print('Accuracy:', accuracy)\n"
   ]
  },
  {
   "cell_type": "code",
   "execution_count": 32,
   "metadata": {},
   "outputs": [
    {
     "name": "stdout",
     "output_type": "stream",
     "text": [
      "F1 Score: 0.9091318717086704\n",
      "\n",
      "Confusion Matrix:\n",
      "[[286   9   5]\n",
      " [  5 289   6]\n",
      " [ 30  21 199]]\n"
     ]
    },
    {
     "data": {
      "image/png": "[encoded data removed]",
      "text/plain": [
       "<Figure size 640x480 with 2 Axes>"
      ]
     },
     "metadata": {},
     "output_type": "display_data"
    }
   ],
   "source": [
    "\n",
    "conf_matrix = confusion_matrix(y_val_tensor.numpy(), predicted.numpy())\n",
    "f1 = f1_score(y_val_tensor.numpy(), predicted.numpy(), average='weighted')\n",
    "\n",
    "print('F1 Score:', f1)\n",
    "print('\\nConfusion Matrix:')\n",
    "print(conf_matrix)\n",
    "\n",
    "ax = sns.heatmap(conf_matrix, annot=True, fmt=\"d\", cmap=\"YlGnBu\", xticklabels=['Residential', 'Forest', 'River'], yticklabels=['Residential', 'Forest', 'River'])\n",
    "ax.set_title('Confusion Matrix')\n",
    "plt.show()\n"
   ]
  },
  {
   "cell_type": "markdown",
   "metadata": {},
   "source": [
    "### Tuning Hyperparameters\n"
   ]
  },
  {
   "cell_type": "markdown",
   "metadata": {},
   "source": [
    "#### **Number of Layers and Number of Neurons in Each Layer**\n",
    "RELU:\n",
    "\tto add non-linearity to the computation. A ReLU layer takes **the feature map (i.e. the output of the convolution layer) and rectifies any negative values to zero. Positive numbers stay the same.\n",
    "CONV:\n",
    "\tto extract Features\n",
    "Pooling:\n",
    "\tdownsize an image. This will increase the computational speed of your image classifier. The most common pooling approach is max pooling.\n",
    "FC:\n",
    "\tit aggregates all information and generates the final classification.\n",
    "\tEach fully connected layer applies a nonlinear transformation to its inputs, typically through activation functions like ReLU (Rectified Linear Unit). These nonlinearities allow the network to learn complex decision boundaries, improving its ability to capture nonlinear relationships in the data.\n",
    "\n",
    "RELU vs Softmax:\n",
    "It is better to use ReLU as an activation function for the intermediate layer.\n",
    "Use softmax activation as an activation function for the classification output layer.\n",
    "\n",
    "Without the softmax activation, the output of the last fully connected layer would be raw scores, not probabilities. These scores wouldn't be constrained between 0 and 1 or sum up to 1 across classes.\n",
    "Therefore, for tasks like calculating losses or making predictions we would need to accomodate changes if we didn't use it\n",
    "\n",
    "\n",
    "\n",
    "\tLayer 1 -> conv 1\n",
    "\tLayer 2 -> pooling\n",
    "\tLayer 3 -> conv 2\n",
    "\tLayer 4 -> pooling\n",
    "\tLayer 5 -> FC 1\n",
    "\tLayer 6 -> FC 2\n",
    "\tLayer 7 -> FC 3\n",
    "\tLayer 8 -> Softmax"
   ]
  },
  {
   "cell_type": "markdown",
   "metadata": {},
   "source": [
    "#### **Epochs**"
   ]
  },
  {
   "cell_type": "code",
   "execution_count": 39,
   "metadata": {},
   "outputs": [
    {
     "name": "stdout",
     "output_type": "stream",
     "text": [
      "Epoch: 5 Accuracy: 0.7988235294117647\n",
      "Epoch: 10 Accuracy: 0.8823529411764706\n",
      "Epoch: 20 Accuracy: 0.9411764705882353\n",
      "Epoch: 30 Accuracy: 0.9564705882352941\n",
      "Epoch: 40 Accuracy: 0.9564705882352941\n",
      "Epoch: 50 Accuracy: 0.35294117647058826\n"
     ]
    },
    {
     "data": {
      "image/png": "[encoded data removed]",
      "text/plain": [
       "<Figure size 640x480 with 1 Axes>"
      ]
     },
     "metadata": {},
     "output_type": "display_data"
    }
   ],
   "source": [
    "'''\n",
    "Accuracy initially increases with the number of epochs but then starts to decrease due to overfitting. \n",
    "\n",
    "FINAL VALUE: 30\n",
    "'''\n",
    "\n",
    "# Training loop for multiple epochs\n",
    "accuracies=[]\n",
    "epochs = [5, 10, 20, 30, 40, 50]\n",
    "for epoch in epochs:\n",
    "\tmodel = LeNet()\n",
    "\toptimizer = optim.SGD(model.parameters(), lr=0.1, momentum=0.0, weight_decay=0.0)\n",
    "\tcriterion = nn.CrossEntropyLoss()\n",
    "\n",
    "\tfor e in range(epoch):\n",
    "\t\tmodel.train()\n",
    "\t\tfor inputs, labels in train_loader:\n",
    "\t\t\toptimizer.zero_grad()\n",
    "\t\t\toutputs = model(inputs)\n",
    "\t\t\tloss = criterion(outputs, labels)\n",
    "\t\t\tloss.backward()\n",
    "\t\t\toptimizer.step()\n",
    "\t\t\n",
    "\tmodel.eval()\n",
    "\twith torch.no_grad():\n",
    "\t\toutputs = model(x_val_tensor)\n",
    "\t\t_, predicted = torch.max(outputs, 1)\n",
    "\t\tcorrect = (predicted == y_val_tensor).sum().item()\n",
    "\t\ttotal = y_val_tensor.size(0)\n",
    "\t\taccuracy = correct / total\n",
    "\t\taccuracies.append(accuracy)\n",
    "\t\tprint('Epoch:', epoch, 'Accuracy:', accuracy)\n",
    "    \n",
    "# plot the accuracies vs epochs\n",
    "plt.plot(epochs, accuracies)\n",
    "plt.xlabel('Epochs')\n",
    "plt.ylabel('Accuracy')\n",
    "plt.title('Accuracy vs Epochs')\n",
    "plt.show()"
   ]
  },
  {
   "cell_type": "code",
   "execution_count": null,
   "metadata": {},
   "outputs": [],
   "source": [
    "conf_matrix = confusion_matrix(y_val_tensor.numpy(), predicted.numpy())\n",
    "f1 = f1_score(y_val_tensor.numpy(), predicted.numpy(), average='weighted')\n",
    "\n",
    "print('F1 Score:', f1)\n",
    "print('\\nConfusion Matrix:')\n",
    "print(conf_matrix)\n",
    "\n",
    "ax = sns.heatmap(conf_matrix, annot=True, fmt=\"d\", cmap=\"YlGnBu\", xticklabels=['Residential', 'Forest', 'River'], yticklabels=['Residential', 'Forest', 'River'])\n",
    "ax.set_title('Confusion Matrix')\n",
    "plt.show()"
   ]
  },
  {
   "cell_type": "markdown",
   "metadata": {},
   "source": [
    "#### **Batch size**\n"
   ]
  },
  {
   "cell_type": "code",
   "execution_count": 40,
   "metadata": {},
   "outputs": [
    {
     "name": "stdout",
     "output_type": "stream",
     "text": [
      "Batch size: 32 Accuracy: 0.9352941176470588\n",
      "Batch size: 64 Accuracy: 0.9494117647058824\n",
      "Batch size: 128 Accuracy: 0.9647058823529412\n",
      "Batch size: 256 Accuracy: 0.8423529411764706\n"
     ]
    },
    {
     "data": {
      "image/png": "[encoded data removed]",
      "text/plain": [
       "<Figure size 640x480 with 1 Axes>"
      ]
     },
     "metadata": {},
     "output_type": "display_data"
    }
   ],
   "source": [
    "'''\n",
    "With a smaller batch size, the model updates its parameters more frequently, leading to faster convergence. \n",
    "However, the estimates of the gradient can be noisier due to the smaller sample size, which can make training less stable.\n",
    "if the batch size becomes too large the model ability to generalize decreases, not exposed to variations in data to update the parameters\n",
    "\n",
    "FINAL VALUE: 128\n",
    "'''\n",
    "\n",
    "batches = [32, 64, 128, 256]\n",
    "accuracies = []\n",
    "for batch in batches:\n",
    "\ttrain_loader = DataLoader(train_dataset, batch_size=batch, shuffle=True)\n",
    "\t\n",
    "\tmodel = LeNet()\n",
    "\toptimizer = optim.SGD(model.parameters(), lr=0.1, momentum=0.0, weight_decay=0.0)\n",
    "\tcriterion = nn.CrossEntropyLoss()\n",
    "\t\n",
    "\tepochs = 30\n",
    "\tfor epoch in range(epochs):\n",
    "\t\tmodel.train()\n",
    "\t\tfor inputs, labels in train_loader:\n",
    "\t\t\toptimizer.zero_grad()\n",
    "\t\t\toutputs = model(inputs)\n",
    "\t\t\tloss = criterion(outputs, labels)\n",
    "\t\t\tloss.backward()\n",
    "\t\t\toptimizer.step()\n",
    "\tmodel.eval()\n",
    "\twith torch.no_grad():\n",
    "\t\toutputs = model(x_val_tensor)\n",
    "\t\t_, predicted = torch.max(outputs, 1)\n",
    "\t\tcorrect = (predicted == y_val_tensor).sum().item()\n",
    "\t\ttotal = y_val_tensor.size(0)\n",
    "\t\taccuracy = correct / total\n",
    "\t\taccuracies.append(accuracy)\n",
    "\t\tprint('Batch size:', batch, 'Accuracy:', accuracy)\n",
    "\t\t\n",
    "# plot the accuracies vs batch size\n",
    "plt.plot(batches, accuracies)\n",
    "plt.xlabel('Batch Size')\n",
    "plt.ylabel('Accuracy')\n",
    "plt.title('Accuracy vs Batch Size')\n",
    "plt.show()"
   ]
  },
  {
   "cell_type": "markdown",
   "metadata": {},
   "source": [
    "#### **learning Rate**\n"
   ]
  },
  {
   "cell_type": "code",
   "execution_count": 42,
   "metadata": {},
   "outputs": [
    {
     "name": "stdout",
     "output_type": "stream",
     "text": [
      "learning rate: 0.0001 Accuracy: 0.35294117647058826\n",
      "learning rate: 0.001 Accuracy: 0.6435294117647059\n",
      "learning rate: 0.01 Accuracy: 0.9482352941176471\n",
      "learning rate: 0.1 Accuracy: 0.9482352941176471\n"
     ]
    },
    {
     "data": {
      "image/png": "[encoded data removed]",
      "text/plain": [
       "<Figure size 640x480 with 1 Axes>"
      ]
     },
     "metadata": {},
     "output_type": "display_data"
    }
   ],
   "source": [
    "'''\n",
    "LR is the step size taken during gradient descent optimization.\n",
    "lower values -> lower step size -> slowly moving to optimal solution -> change of falling to local minima, slow convergence\n",
    "higher values -> larger step size -> Fastly moving to optimal solution -> overshoot and oscillations around optimal solution\n",
    "\n",
    "FINAL VALUE: 0.1\n",
    "'''\n",
    "\n",
    "learning_rates = [0.0001,0.001,0.01,0.1]\n",
    "accuracies = []\n",
    "for learning_rate in learning_rates:\n",
    "\ttrain_loader = DataLoader(train_dataset, batch_size=128 , shuffle=True)\n",
    "\t\n",
    "\tmodel = LeNet()\n",
    "\toptimizer = optim.SGD(model.parameters(), lr=learning_rate, momentum=0.0, weight_decay=0.0)\n",
    "\tcriterion = nn.CrossEntropyLoss()\n",
    "\t\n",
    "\tepochs = 30\n",
    "\tfor epoch in range(epochs):\n",
    "\t\tmodel.train()\n",
    "\t\tfor inputs, labels in train_loader:\n",
    "\t\t\toptimizer.zero_grad()\n",
    "\t\t\toutputs = model(inputs)\n",
    "\t\t\tloss = criterion(outputs, labels)\n",
    "\t\t\tloss.backward()\n",
    "\t\t\toptimizer.step()\n",
    "\tmodel.eval()\n",
    "\twith torch.no_grad():\n",
    "\t\toutputs = model(x_val_tensor)\n",
    "\t\t_, predicted = torch.max(outputs, 1)\n",
    "\t\tcorrect = (predicted == y_val_tensor).sum().item()\n",
    "\t\ttotal = y_val_tensor.size(0)\n",
    "\t\taccuracy = correct / total\n",
    "\t\taccuracies.append(accuracy)\n",
    "\t\tprint('learning rate:', learning_rate, 'Accuracy:', accuracy)\n",
    "\t\t\n",
    "# plot the accuracies vs batch size\n",
    "plt.plot(learning_rates, accuracies)\n",
    "plt.xlabel('Learning Rates')\n",
    "plt.ylabel('Accuracy')\n",
    "plt.title('Accuracy vs Learning Rates')\n",
    "plt.show()"
   ]
  },
  {
   "cell_type": "markdown",
   "metadata": {},
   "source": [
    "#### **Optimizer Type**\n"
   ]
  },
  {
   "cell_type": "code",
   "execution_count": 44,
   "metadata": {},
   "outputs": [
    {
     "name": "stdout",
     "output_type": "stream",
     "text": [
      "The history saving thread hit an unexpected error (OperationalError('database or disk is full')).History will not be written to the database.\n",
      "Stochastic Gradient Descent  Accuracy: 0.9470588235294117\n"
     ]
    }
   ],
   "source": [
    "# 1- SGD\n",
    "'''\n",
    "\n",
    "'''\n",
    "model = LeNet()\n",
    "optimizer_sgd  = optim.SGD(model.parameters(), lr=0.1, momentum=0.0, weight_decay=0.0)\n",
    "criterion = nn.CrossEntropyLoss()\n",
    "\n",
    "epochs = 30\n",
    "for epoch in range(epochs):\n",
    "\tmodel.train()\n",
    "\tfor inputs, labels in train_loader:\n",
    "\t\toptimizer_sgd.zero_grad()\n",
    "\t\toutputs = model(inputs)\n",
    "\t\tloss = criterion(outputs, labels)\n",
    "\t\tloss.backward()\n",
    "\t\toptimizer_sgd.step()\n",
    "model.eval()\n",
    "with torch.no_grad():\n",
    "\toutputs = model(x_val_tensor)\n",
    "\t_, predicted = torch.max(outputs, 1)\n",
    "\tcorrect = (predicted == y_val_tensor).sum().item()\n",
    "\ttotal = y_val_tensor.size(0)\n",
    "\taccuracy = correct / total\n",
    "\t\n",
    "\tprint('Stochastic Gradient Descent', ' Accuracy:', accuracy)\n",
    "##############################################################\n"
   ]
  },
  {
   "cell_type": "code",
   "execution_count": 45,
   "metadata": {},
   "outputs": [
    {
     "name": "stdout",
     "output_type": "stream",
     "text": [
      "Adagrad  Accuracy: 0.35294117647058826\n"
     ]
    }
   ],
   "source": [
    "# 2- Adagrad\n",
    "'''\n",
    "\n",
    "'''\n",
    "model = LeNet()\n",
    "optimizer_adagrad = optim.Adagrad(model.parameters(), lr=0.1, lr_decay=0, weight_decay=0, initial_accumulator_value=0, eps=1e-8)\n",
    "criterion = nn.CrossEntropyLoss()\n",
    "\n",
    "epochs = 30\n",
    "for epoch in range(epochs):\n",
    "\tmodel.train()\n",
    "\tfor inputs, labels in train_loader:\n",
    "\t\toptimizer_adagrad.zero_grad()\n",
    "\t\toutputs = model(inputs)\n",
    "\t\tloss = criterion(outputs, labels)\n",
    "\t\tloss.backward()\n",
    "\t\toptimizer_adagrad.step()\n",
    "model.eval()\n",
    "with torch.no_grad():\n",
    "\toutputs = model(x_val_tensor)\n",
    "\t_, predicted = torch.max(outputs, 1)\n",
    "\tcorrect = (predicted == y_val_tensor).sum().item()\n",
    "\ttotal = y_val_tensor.size(0)\n",
    "\taccuracy = correct / total\n",
    "\t\n",
    "\tprint('Adagrad', ' Accuracy:', accuracy)\n",
    "##############################################################\n"
   ]
  },
  {
   "cell_type": "code",
   "execution_count": 48,
   "metadata": {},
   "outputs": [
    {
     "name": "stdout",
     "output_type": "stream",
     "text": [
      "RMSprop  Accuracy: 0.35294117647058826\n"
     ]
    }
   ],
   "source": [
    "# 3- RMSprop \n",
    "'''\n",
    "\n",
    "'''\n",
    "model = LeNet()\n",
    "optimizer_rmsprop = optim.RMSprop(model.parameters(), lr=0.1, momentum=0.0, weight_decay=0.0)\n",
    "criterion = nn.CrossEntropyLoss()\n",
    "\n",
    "epochs = 30\n",
    "for epoch in range(epochs):\n",
    "\tmodel.train()\n",
    "\tfor inputs, labels in train_loader:\n",
    "\t\toptimizer_rmsprop.zero_grad()\n",
    "\t\toutputs = model(inputs)\n",
    "\t\tloss = criterion(outputs, labels)\n",
    "\t\tloss.backward()\n",
    "\t\toptimizer_rmsprop.step()\n",
    "model.eval()\n",
    "with torch.no_grad():\n",
    "\toutputs = model(x_val_tensor)\n",
    "\t_, predicted = torch.max(outputs, 1)\n",
    "\tcorrect = (predicted == y_val_tensor).sum().item()\n",
    "\ttotal = y_val_tensor.size(0)\n",
    "\taccuracy = correct / total\n",
    "\t\n",
    "\tprint('RMSprop', ' Accuracy:', accuracy)\n",
    "\n",
    "##############################################################\n"
   ]
  },
  {
   "cell_type": "code",
   "execution_count": 47,
   "metadata": {},
   "outputs": [
    {
     "name": "stdout",
     "output_type": "stream",
     "text": [
      "Adam   Accuracy: 0.29411764705882354\n"
     ]
    }
   ],
   "source": [
    "# 4- Adam\n",
    "'''\n",
    "\n",
    "'''\n",
    "model = LeNet()\n",
    "optimizer_adam = optim.Adam(model.parameters(), lr=0.1, betas=(0.9, 0.999), eps=1e-08, weight_decay=0, amsgrad=False)\n",
    "criterion = nn.CrossEntropyLoss()\n",
    "\n",
    "epochs = 30\n",
    "for epoch in range(epochs):\n",
    "\tmodel.train()\n",
    "\tfor inputs, labels in train_loader:\n",
    "\t\toptimizer_adam.zero_grad()\n",
    "\t\toutputs = model(inputs)\n",
    "\t\tloss = criterion(outputs, labels)\n",
    "\t\tloss.backward()\n",
    "\t\toptimizer_adam.step()\n",
    "model.eval()\n",
    "with torch.no_grad():\n",
    "\toutputs = model(x_val_tensor)\n",
    "\t_, predicted = torch.max(outputs, 1)\n",
    "\tcorrect = (predicted == y_val_tensor).sum().item()\n",
    "\ttotal = y_val_tensor.size(0)\n",
    "\taccuracy = correct / total\n",
    "\t\n",
    "\tprint('Adam ', ' Accuracy:', accuracy)"
   ]
  },
  {
   "cell_type": "markdown",
   "metadata": {},
   "source": [
    "#### **Beta Parameters for Adam Optimizer**\n"
   ]
  },
  {
   "cell_type": "code",
   "execution_count": null,
   "metadata": {},
   "outputs": [],
   "source": []
  },
  {
   "cell_type": "markdown",
   "metadata": {},
   "source": [
    "#### **Momentum**"
   ]
  },
  {
   "cell_type": "code",
   "execution_count": 49,
   "metadata": {},
   "outputs": [
    {
     "name": "stdout",
     "output_type": "stream",
     "text": [
      "momentum: 0.9 Accuracy: 0.35294117647058826\n",
      "momentum: 0.99 Accuracy: 0.35294117647058826\n"
     ]
    }
   ],
   "source": [
    "'''\n",
    "\n",
    "'''\n",
    "momentums = [0.9,0.99]\n",
    "for momentum in momentums:\n",
    "\ttrain_loader = DataLoader(train_dataset, batch_size=128 , shuffle=True)\n",
    "\t\n",
    "\tmodel = LeNet()\n",
    "\toptimizer = optim.SGD(model.parameters(), lr=0.1, momentum=momentum, weight_decay=0.0)\n",
    "\tcriterion = nn.CrossEntropyLoss()\n",
    "\t\n",
    "\tepochs = 30\n",
    "\tfor epoch in range(epochs):\n",
    "\t\tmodel.train()\n",
    "\t\tfor inputs, labels in train_loader:\n",
    "\t\t\toptimizer.zero_grad()\n",
    "\t\t\toutputs = model(inputs)\n",
    "\t\t\tloss = criterion(outputs, labels)\n",
    "\t\t\tloss.backward()\n",
    "\t\t\toptimizer.step()\n",
    "\tmodel.eval()\n",
    "\twith torch.no_grad():\n",
    "\t\toutputs = model(x_val_tensor)\n",
    "\t\t_, predicted = torch.max(outputs, 1)\n",
    "\t\tcorrect = (predicted == y_val_tensor).sum().item()\n",
    "\t\ttotal = y_val_tensor.size(0)\n",
    "\t\taccuracy = correct / total\n",
    "\t\tprint('momentum:', momentum, 'Accuracy:', accuracy)\n"
   ]
  },
  {
   "cell_type": "markdown",
   "metadata": {},
   "source": [
    "# Final Model Selection and Evaluation on Test Set"
   ]
  },
  {
   "cell_type": "code",
   "execution_count": 63,
   "metadata": {},
   "outputs": [],
   "source": [
    "\n",
    "# Define LeNet-5 architecture\n",
    "class CNN(nn.Module):\n",
    "    def __init__(self):\n",
    "        super(CNN, self).__init__()\n",
    "        self.conv1 = nn.Conv2d(in_channels=13, out_channels=7, kernel_size=5) # 1st conv layer with 6 filters of size 5x5 and stride 1 \n",
    "        self.avgpool = nn.AvgPool2d(kernel_size=2, stride=2) # Average pooling layer with kernel size 2x2 and stride 2 that reduces the size of the image by half\n",
    "        self.conv2 = nn.Conv2d(in_channels=7, out_channels=7, kernel_size=5) # 2nd conv layer with 6 filters of size 5x5 and stride 1\n",
    "        self.fc1 = nn.Linear(in_features=7 * 13 * 13, out_features=120) # 1st fully connected layer with 120 neurons \n",
    "        self.fc2 = nn.Linear(in_features=120, out_features=84) # 2nd fully connected layer with 84 neurons\n",
    "        self.fc3 = nn.Linear(in_features=84, out_features=3) # 3rd fully connected layer with 3 neurons for the 3 classes\n",
    "        # self.dropout = nn.Dropout(p=0.2)\n",
    "        self.softmax = nn.Softmax(dim=1) # softmax layer to convert the output to probabilities\n",
    "\n",
    "    def forward(self, x):\n",
    "        x = torch.relu(self.conv1(x))\n",
    "        x = self.avgpool(x)\n",
    "        x = torch.relu(self.conv2(x))\n",
    "        x = self.avgpool(x)\n",
    "        x = x.view(-1, 7 * 13 * 13) # flatten the output of the 2nd conv layer to be fed to the fully connected layer\n",
    "        x = torch.relu(self.fc1(x))\n",
    "        # x = self.dropout(x)\n",
    "        x = torch.relu(self.fc2(x))\n",
    "        x = self.fc3(x)\n",
    "        x = self.softmax(x)\n",
    "        return x\n",
    "        \n",
    "train_loader = DataLoader(train_dataset, batch_size=128 , shuffle=True)\n",
    "\n",
    "model = CNN()\n",
    "optimizer = optim.SGD(model.parameters(), lr=0.1, momentum=0.0, weight_decay=0.0)\n",
    "criterion = nn.CrossEntropyLoss()\n"
   ]
  },
  {
   "cell_type": "code",
   "execution_count": 64,
   "metadata": {},
   "outputs": [
    {
     "name": "stdout",
     "output_type": "stream",
     "text": [
      "Accuracy: 0.9552941176470588\n"
     ]
    }
   ],
   "source": [
    "\n",
    "epochs = 30\n",
    "for epoch in range(epochs):\n",
    "\tmodel.train()\n",
    "\tfor inputs, labels in train_loader:\n",
    "\t\toptimizer.zero_grad()\n",
    "\t\toutputs = model(inputs)\n",
    "\t\tloss = criterion(outputs, labels)\n",
    "\t\tloss.backward()\n",
    "\t\toptimizer.step()\n",
    "\t\t\t# Evaluate the model on the validation set\n",
    "model.eval()\n",
    "with torch.no_grad():\n",
    "    outputs = model(x_test_tensor)\n",
    "    _, predicted = torch.max(outputs, 1)\n",
    "    correct = (predicted == y_test_tensor).sum().item()\n",
    "    total = y_test_tensor.size(0)\n",
    "    accuracy = correct / total\n",
    "    print('Accuracy:', accuracy)\n"
   ]
  },
  {
   "cell_type": "code",
   "execution_count": 65,
   "metadata": {},
   "outputs": [
    {
     "name": "stdout",
     "output_type": "stream",
     "text": [
      "F1 Score: 0.9550725392024861\n",
      "\n",
      "Confusion Matrix:\n",
      "[[293   4   3]\n",
      " [  6 293   1]\n",
      " [ 10  14 226]]\n"
     ]
    },
    {
     "data": {
      "image/png": "[encoded data removed]",
      "text/plain": [
       "<Figure size 640x480 with 2 Axes>"
      ]
     },
     "metadata": {},
     "output_type": "display_data"
    }
   ],
   "source": [
    "\n",
    "conf_matrix = confusion_matrix(y_test_tensor.numpy(), predicted.numpy())\n",
    "f1 = f1_score(y_test_tensor.numpy(), predicted.numpy(), average='weighted')\n",
    "\n",
    "print('F1 Score:', f1)\n",
    "print('\\nConfusion Matrix:')\n",
    "print(conf_matrix)\n",
    "\n",
    "ax = sns.heatmap(conf_matrix, annot=True, fmt=\"d\", cmap=\"YlGnBu\", xticklabels=['Residential', 'Forest', 'River'], yticklabels=['Residential', 'Forest', 'River'])\n",
    "ax.set_title('Confusion Matrix')\n",
    "plt.show()\n"
   ]
  },
  {
   "cell_type": "code",
   "execution_count": null,
   "metadata": {},
   "outputs": [],
   "source": [
    "# Good Luck from Psy and wish me well \n",
    "# I wish you you well"
   ]
  },
  {
   "cell_type": "markdown",
   "metadata": {},
   "source": [
    "### Grading Rubric (Total: 10 Marks)\n",
    "\n",
    "The lab is graded based on the following criteria:\n",
    "\n",
    "1. **Data Loading and Preparation (2 Marks)**\n",
    "   - Correctly loads images for the residential, river, and forest classes. (1 Mark)\n",
    "   - Accurately splits the dataset into training, validation testing subsets and clearly shows this split. (1 Mark)\n",
    "\n",
    "2. **CNN Architecture (3 Marks)**\n",
    "   - Uses appropriate CNN Architecture to the problem with a full pipeline. (2 Marks)\n",
    "   - Justifies the selection of CNN architecture. (1 Mark)\n",
    "\n",
    "3. **Hyperparameters Tuning (2 Marks)**\n",
    "   - Report evaluation metrics on validation set. (1 Mark)\n",
    "   - Analyzes results and tunes hyperparameters. (1 Mark)\n",
    "\n",
    "4. **Model Evaluation and Understanding (3 Marks)**\n",
    "   - Shows **confusion matrix** and correctly calculates and clearly shows the calculations for Accuracy and Average F1 Score. (1 Mark)\n",
    "   - **Comparison amongst your peers.** Compares the model's performance against those of peers to identify strengths and areas for improvement. (2 Marks)\n",
    "\n",
    "Each section of the lab will be evaluated on completeness, and correctness in approach and analysis. Part of the rubric also includes the student's ability to explain and justify their choices and results.\n"
   ]
  }
 ],
 "metadata": {
  "kernelspec": {
   "display_name": "Python 3",
   "language": "python",
   "name": "python3"
  },
  "language_info": {
   "codemirror_mode": {
    "name": "ipython",
    "version": 3
   },
   "file_extension": ".py",
   "mimetype": "text/x-python",
   "name": "python",
   "nbconvert_exporter": "python",
   "pygments_lexer": "ipython3",
   "version": "3.11.3"
  }
 },
 "nbformat": 4,
 "nbformat_minor": 2
}
